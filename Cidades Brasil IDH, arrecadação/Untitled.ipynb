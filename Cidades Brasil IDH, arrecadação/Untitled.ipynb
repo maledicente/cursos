{
 "cells": [
  {
   "cell_type": "code",
   "execution_count": 4,
   "metadata": {},
   "outputs": [],
   "source": [
    "import numpy as np\n",
    "import pandas as pd\n",
    "import matplotlib.pyplot as plt\n",
    "import seaborn as sns\n",
    "from bs4 import BeautifulSoup\n",
    "import requests"
   ]
  },
  {
   "cell_type": "code",
   "execution_count": 46,
   "metadata": {},
   "outputs": [],
   "source": [
    "url='https://pt.wikipedia.org/wiki/Lista_de_unidades_federativas_do_Brasil_por_IDH'\n",
    "data_idhm_2017 = pd.read_html(url)[0]\n",
    "data1_idh_2010 = pd.read_html(url)[1]\n",
    "data_renda_2000_2010 = pd.read_html(url)[2]\n",
    "data_longevidade = pd.read_html(url)[3]\n",
    "data_educação = pd.read_html(url)[4]\n",
    "data_evo_estados = pd.read_html(url)[5]"
   ]
  },
  {
   "cell_type": "code",
   "execution_count": 47,
   "metadata": {},
   "outputs": [],
   "source": [
    "#data_longevidade.to_csv('longevidade.csv');"
   ]
  },
  {
   "cell_type": "code",
   "execution_count": 49,
   "metadata": {},
   "outputs": [
    {
     "data": {
      "text/html": [
       "<div>\n",
       "<style scoped>\n",
       "    .dataframe tbody tr th:only-of-type {\n",
       "        vertical-align: middle;\n",
       "    }\n",
       "\n",
       "    .dataframe tbody tr th {\n",
       "        vertical-align: top;\n",
       "    }\n",
       "\n",
       "    .dataframe thead tr th {\n",
       "        text-align: left;\n",
       "    }\n",
       "</style>\n",
       "<table border=\"1\" class=\"dataframe\">\n",
       "  <thead>\n",
       "    <tr>\n",
       "      <th></th>\n",
       "      <th colspan=\"2\" halign=\"left\">Posição</th>\n",
       "      <th>Unidade federativa</th>\n",
       "      <th colspan=\"2\" halign=\"left\">IDH-M</th>\n",
       "      <th>País comparável[nota 2][2]</th>\n",
       "    </tr>\n",
       "    <tr>\n",
       "      <th></th>\n",
       "      <th>Posição em 2017[1]</th>\n",
       "      <th>Comparação com 2016[1]</th>\n",
       "      <th>Unidade federativa</th>\n",
       "      <th>Em 2017</th>\n",
       "      <th>Em 2016</th>\n",
       "      <th>País comparável[nota 2][2]</th>\n",
       "    </tr>\n",
       "  </thead>\n",
       "  <tbody>\n",
       "    <tr>\n",
       "      <th>0</th>\n",
       "      <td>1</td>\n",
       "      <td>(0)</td>\n",
       "      <td>Distrito Federal</td>\n",
       "      <td>850</td>\n",
       "      <td>854</td>\n",
       "      <td>Portugal</td>\n",
       "    </tr>\n",
       "    <tr>\n",
       "      <th>1</th>\n",
       "      <td>2</td>\n",
       "      <td>(0)</td>\n",
       "      <td>São Paulo</td>\n",
       "      <td>826</td>\n",
       "      <td>831</td>\n",
       "      <td>Rússia</td>\n",
       "    </tr>\n",
       "    <tr>\n",
       "      <th>2</th>\n",
       "      <td>3</td>\n",
       "      <td>(0)</td>\n",
       "      <td>Santa Catarina</td>\n",
       "      <td>808</td>\n",
       "      <td>805</td>\n",
       "      <td>Uruguai</td>\n",
       "    </tr>\n",
       "    <tr>\n",
       "      <th>3</th>\n",
       "      <td>4</td>\n",
       "      <td>(0)</td>\n",
       "      <td>Rio de Janeiro</td>\n",
       "      <td>796</td>\n",
       "      <td>794</td>\n",
       "      <td>Maurícia</td>\n",
       "    </tr>\n",
       "    <tr>\n",
       "      <th>4</th>\n",
       "      <td>5</td>\n",
       "      <td>(0)</td>\n",
       "      <td>Paraná</td>\n",
       "      <td>792</td>\n",
       "      <td>792</td>\n",
       "      <td>Albânia</td>\n",
       "    </tr>\n",
       "  </tbody>\n",
       "</table>\n",
       "</div>"
      ],
      "text/plain": [
       "             Posição                        Unidade federativa   IDH-M  \\\n",
       "  Posição em 2017[1] Comparação com 2016[1] Unidade federativa Em 2017   \n",
       "0                  1                    (0)   Distrito Federal     850   \n",
       "1                  2                    (0)          São Paulo     826   \n",
       "2                  3                    (0)     Santa Catarina     808   \n",
       "3                  4                    (0)     Rio de Janeiro     796   \n",
       "4                  5                    (0)             Paraná     792   \n",
       "\n",
       "          País comparável[nota 2][2]  \n",
       "  Em 2016 País comparável[nota 2][2]  \n",
       "0     854                   Portugal  \n",
       "1     831                     Rússia  \n",
       "2     805                    Uruguai  \n",
       "3     794                   Maurícia  \n",
       "4     792                    Albânia  "
      ]
     },
     "execution_count": 49,
     "metadata": {},
     "output_type": "execute_result"
    }
   ],
   "source": [
    "data_idhm_2017.head()"
   ]
  },
  {
   "cell_type": "code",
   "execution_count": null,
   "metadata": {},
   "outputs": [],
   "source": []
  }
 ],
 "metadata": {
  "kernelspec": {
   "display_name": "Python 3",
   "language": "python",
   "name": "python3"
  },
  "language_info": {
   "codemirror_mode": {
    "name": "ipython",
    "version": 3
   },
   "file_extension": ".py",
   "mimetype": "text/x-python",
   "name": "python",
   "nbconvert_exporter": "python",
   "pygments_lexer": "ipython3",
   "version": "3.8.3"
  }
 },
 "nbformat": 4,
 "nbformat_minor": 4
}
