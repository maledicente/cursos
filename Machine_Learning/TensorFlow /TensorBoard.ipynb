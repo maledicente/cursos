{
 "cells": [
  {
   "cell_type": "code",
   "execution_count": 1,
   "metadata": {},
   "outputs": [],
   "source": [
    "import tensorflow as tf\n",
    "import numpy as np"
   ]
  },
  {
   "cell_type": "code",
   "execution_count": 22,
   "metadata": {},
   "outputs": [],
   "source": [
    "tf.compat.v1.disable_eager_execution()\n",
    "g1 = tf.Graph()\n",
    "\n",
    "with g1.as_default():\n",
    "    a = tf.constant(2, dtype=tf.float32, name='tensor_a')\n",
    "    b = tf.constant(3, dtype=tf.float32, name='tensor_b')\n",
    "    c = tf.add(a,b)\n",
    "\n",
    "writer = tf.compat.v1.summary.FileWriter(\"./graphs\", g1)\n",
    "writer.close()"
   ]
  },
  {
   "cell_type": "code",
   "execution_count": null,
   "metadata": {},
   "outputs": [],
   "source": [
    "'''\n",
    "g1 = tf.Graph()\n",
    "g2 = tf.Graph()\n",
    "\n",
    "with g1.as_default():\n",
    "    a = tf.constant(3)\n",
    "    b = tf.constant(4)\n",
    "    c = tf.add(a, b)\n",
    "\n",
    "with g2.as_default():\n",
    "    x = tf.constant(5)\n",
    "    y = tf.constant(2)\n",
    "    z = tf.multiply(x, y)\n",
    "\n",
    "writer = tf.compat.v1.summary.FileWriter(\"./graphs\", g1)\n",
    "writer = tf.compat.v1.summary.FileWriter(\"./graphs\", g2)\n",
    "writer.close()\n",
    "'''"
   ]
  },
  {
   "cell_type": "code",
   "execution_count": 4,
   "metadata": {},
   "outputs": [],
   "source": [
    "tf.compat.v1.disable_eager_execution()\n",
    "g2 = tf.Graph()\n",
    "with g2.as_default():\n",
    "    \n",
    "    x1 = np.random.randn(4,8)\n",
    "    w1 = np.random.randn(8,2)\n",
    "    \n",
    "    x2 = np.random.randn(4,8)\n",
    "    w2 = np.random.randn(8,2)\n",
    "    \n",
    "    x3 = np.random.randn(4,8)\n",
    "    w3 = np.random.randn(8,2)\n",
    "    \n",
    "    x4 = np.random.randn(4,8)\n",
    "    w4 = np.random.randn(8,2)\n",
    "    \n",
    "    x5 = np.random.randn(4,8)\n",
    "    w5 = np.random.randn(8,2)\n",
    "    \n",
    "    lista_x = [x1, x2, x3, x4, x5]\n",
    "    lista_w = [w1, w2, w3, w4, w5]\n",
    "    lista_saida = []\n",
    "    \n",
    "    b = tf.compat.v1.random_normal((4,2),0,1)\n",
    "    \n",
    "    x = tf.compat.v1.placeholder(tf.float32, shape=(4,8))\n",
    "    w = tf.compat.v1.placeholder(tf.float32, shape=(8,2))\n",
    "    \n",
    "    operacao = tf.matmul(x, w) + b\n",
    "\n",
    "    maximo = tf.reduce_max(operacao)\n",
    "    \n",
    "    sess = tf.compat.v1.Session()\n",
    "    for i in range(5):\n",
    "        saida = sess.run(maximo, feed_dict={x: lista_x[i], w: lista_w[i]})\n",
    "        lista_saida.append(saida)\n",
    "\n",
    "writer = tf.compat.v1.summary.FileWriter(\"./graphs\", g2)\n",
    "writer.close()"
   ]
  },
  {
   "cell_type": "code",
   "execution_count": null,
   "metadata": {},
   "outputs": [],
   "source": []
  }
 ],
 "metadata": {
  "kernelspec": {
   "display_name": "Python 3",
   "language": "python",
   "name": "python3"
  },
  "language_info": {
   "codemirror_mode": {
    "name": "ipython",
    "version": 3
   },
   "file_extension": ".py",
   "mimetype": "text/x-python",
   "name": "python",
   "nbconvert_exporter": "python",
   "pygments_lexer": "ipython3",
   "version": "3.8.5"
  }
 },
 "nbformat": 4,
 "nbformat_minor": 4
}
