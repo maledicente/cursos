{
 "cells": [
  {
   "cell_type": "code",
   "execution_count": 14,
   "metadata": {},
   "outputs": [
    {
     "name": "stdout",
     "output_type": "stream",
     "text": [
      "2.2.0\n"
     ]
    }
   ],
   "source": [
    "import tensorflow as tf\n",
    "\n",
    "print(tf.__version__)"
   ]
  },
  {
   "cell_type": "code",
   "execution_count": 16,
   "metadata": {},
   "outputs": [
    {
     "data": {
      "text/plain": [
       "'\\n# Construct a `Session` to execute the graph.\\nwith tf.compat.v1.Session() as sess:\\n\\n    # \\n    a = tf.constant(5)\\n    b = tf.constant(3)\\n    c = tf.constant(2)\\n\\n    d = tf.multiply(a,b)\\n    e = tf.add(a,c)\\n    f = tf.subtract(d,e)\\n\\n    # \\n    result = sess.run(e)\\n    print(result)\\n'"
      ]
     },
     "execution_count": 16,
     "metadata": {},
     "output_type": "execute_result"
    }
   ],
   "source": [
    "\"\"\"\n",
    "# Construct a `Session` to execute the graph.\n",
    "with tf.compat.v1.Session() as sess:\n",
    "\n",
    "    # \n",
    "    a = tf.constant(5)\n",
    "    b = tf.constant(3)\n",
    "    c = tf.constant(2)\n",
    "\n",
    "    d = tf.multiply(a,b)\n",
    "    e = tf.add(a,c)\n",
    "    f = tf.subtract(d,e)\n",
    "\n",
    "    # \n",
    "    result = sess.run(e)\n",
    "    print(result)\n",
    "\"\"\""
   ]
  },
  {
   "cell_type": "code",
   "execution_count": 17,
   "metadata": {},
   "outputs": [
    {
     "name": "stdout",
     "output_type": "stream",
     "text": [
      "[[1. 3.]\n",
      " [3. 7.]]\n"
     ]
    }
   ],
   "source": [
    "tf.compat.v1.disable_eager_execution()\n",
    "\n",
    "# Build a dataflow graph.\n",
    "c = tf.constant([[1.0, 2.0], [3.0, 4.0]])\n",
    "d = tf.constant([[1.0, 1.0], [0.0, 1.0]])\n",
    "e = tf.matmul(c, d)\n",
    "\n",
    "# Construct a `Session` to execute the graph.\n",
    "sess = tf.compat.v1.Session()\n",
    "\n",
    "# Execute the graph and store the value that `e` represents in `result`.\n",
    "result = sess.run(e)\n",
    "print(result)\n",
    "sess.close()"
   ]
  },
  {
   "cell_type": "code",
   "execution_count": null,
   "metadata": {},
   "outputs": [],
   "source": []
  }
 ],
 "metadata": {
  "kernelspec": {
   "display_name": "Python 3",
   "language": "python",
   "name": "python3"
  },
  "language_info": {
   "codemirror_mode": {
    "name": "ipython",
    "version": 3
   },
   "file_extension": ".py",
   "mimetype": "text/x-python",
   "name": "python",
   "nbconvert_exporter": "python",
   "pygments_lexer": "ipython3",
   "version": "3.8.5"
  }
 },
 "nbformat": 4,
 "nbformat_minor": 4
}
