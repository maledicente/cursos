{
 "cells": [
  {
   "cell_type": "code",
   "execution_count": 32,
   "metadata": {},
   "outputs": [],
   "source": [
    "#Importando bibliotecas. \n",
    "#import numpy as np\n",
    "#import pandas as pd\n",
    "#import matplotlib.pyplot as plt\n",
    "#import seaborn as sns\n",
    "import requests\n",
    "import json"
   ]
  },
  {
   "cell_type": "code",
   "execution_count": 33,
   "metadata": {},
   "outputs": [],
   "source": [
    "url = 'https://economia.awesomeapi.com.br/all/USD-BRL'\n",
    "requisicao = requests.get(url)\n",
    "cotacao = requisicao.json()"
   ]
  },
  {
   "cell_type": "code",
   "execution_count": 34,
   "metadata": {},
   "outputs": [
    {
     "data": {
      "text/plain": [
       "{'USD': {'code': 'USD',\n",
       "  'codein': 'BRL',\n",
       "  'name': 'Dólar Comercial',\n",
       "  'high': '5.5736',\n",
       "  'low': '5.5053',\n",
       "  'varBid': '0.0286',\n",
       "  'pctChange': '0.52',\n",
       "  'bid': '5.5524',\n",
       "  'ask': '5.5549',\n",
       "  'timestamp': '1604670944',\n",
       "  'create_date': '2020-11-06 10:55:45'}}"
      ]
     },
     "execution_count": 34,
     "metadata": {},
     "output_type": "execute_result"
    }
   ],
   "source": [
    "cotacao"
   ]
  },
  {
   "cell_type": "code",
   "execution_count": 35,
   "metadata": {},
   "outputs": [
    {
     "name": "stdout",
     "output_type": "stream",
     "text": [
      "#### Cotação do Dolar ####\n",
      "Moeda: Dólar Comercial\n",
      "Data: 2020-11-06 10:55:45\n",
      "Valor atual: R$5.5524\n"
     ]
    }
   ],
   "source": [
    "print('#### Cotação do Dolar ####')\n",
    "print ('Moeda: ' + cotacao['USD']['name'])\n",
    "print ('Data: ' + cotacao['USD']['create_date'])\n",
    "print('Valor atual: R$' + cotacao['USD']['bid'])"
   ]
  }
 ],
 "metadata": {
  "kernelspec": {
   "display_name": "Python 3",
   "language": "python",
   "name": "python3"
  },
  "language_info": {
   "codemirror_mode": {
    "name": "ipython",
    "version": 3
   },
   "file_extension": ".py",
   "mimetype": "text/x-python",
   "name": "python",
   "nbconvert_exporter": "python",
   "pygments_lexer": "ipython3",
   "version": "3.8.3"
  }
 },
 "nbformat": 4,
 "nbformat_minor": 4
}
