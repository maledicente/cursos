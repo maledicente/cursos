{
 "cells": [
  {
   "cell_type": "code",
   "execution_count": 1,
   "id": "d13aaa65",
   "metadata": {},
   "outputs": [],
   "source": [
    "from keras.models import load_model\n",
    "from helpers import resize_to_fit\n",
    "from imutils import paths\n",
    "import numpy as np\n",
    "import cv2\n",
    "import pickle\n",
    "from tratar_captcha import tratar_imagens"
   ]
  },
  {
   "cell_type": "code",
   "execution_count": 3,
   "id": "37702bec",
   "metadata": {},
   "outputs": [
    {
     "name": "stdout",
     "output_type": "stream",
     "text": [
      "BSMLB\n"
     ]
    }
   ],
   "source": [
    "def quebrar_captcha():\n",
    "\t# import modelo treinado e tradutor\n",
    "\twith open('rotulos_modelo.txt', 'rb') as arquivo_tradutor:\n",
    "\t\tlb = pickle.load(arquivo_tradutor)\n",
    "\n",
    "\tmodelo = load_model('modelo_treinado.hdf5')\n",
    "\n",
    "\t# Testar modelo\n",
    "\ttratar_imagens(\"resolver_captcha\", \"resolver_captcha\")\n",
    "\n",
    "\t############\n",
    "\tarquivos = list(paths.list_images('resolver_captcha'))\n",
    "\tfor arquivo in arquivos:\n",
    "\t\timagem = cv2.imread(arquivo)\n",
    "\t\timagem = cv2.cvtColor(imagem, cv2.COLOR_RGB2GRAY)\n",
    "\t\t#preto e branco\n",
    "\t\t_, nova_imagem = cv2.threshold(imagem, 0, 255, cv2.THRESH_BINARY_INV)\n",
    "\n",
    "\t\t# encontrar contornos das letras\n",
    "\t\tcontornos, _ = cv2.findContours(nova_imagem, cv2.RETR_EXTERNAL, cv2.CHAIN_APPROX_SIMPLE)\n",
    "\n",
    "\t\tregiao_letras = []\n",
    "\n",
    "\t\t# filtrar contornos que sao letras\n",
    "\t\tfor contorno in contornos:\n",
    "\t\t\t(x, y, largura, altura) = cv2.boundingRect(contorno)\n",
    "\t\t\tarea = cv2.contourArea(contorno)\n",
    "\t\t\tif area > 115:\n",
    "\t\t\t\tregiao_letras.append((x, y, largura, altura))\n",
    "\n",
    "\t\tregiao_letras = sorted(regiao_letras, key=lambda x: x[0])\n",
    "\n",
    "\t\t# desenhar contornos e separar letras em arquivos individuais\n",
    "\t\timagem_final = cv2.merge([imagem] * 3)\n",
    "\t\tprevisao = []\n",
    "\n",
    "\t\ti=0\n",
    "\t\tfor retangulo in regiao_letras:\n",
    "\t\t\tx, y, largura, altura = retangulo\n",
    "\t\t\timagem_letra = imagem[y-2:y+altura+2, x-2:x+largura+2]\n",
    "\n",
    "\t\t\timagem_letra = resize_to_fit(imagem_letra, 20, 20)\n",
    "\t\t\timagem_letra = np.expand_dims(imagem_letra, axis=2)\n",
    "\t\t\timagem_letra = np.expand_dims(imagem_letra, axis=0)\n",
    "\n",
    "\t\t\tletra_prevista = modelo.predict(imagem_letra)\n",
    "\t\t\tletra_prevista = lb.inverse_transform(letra_prevista)[0]\n",
    "\t\t\tprevisao.append(letra_prevista)\n",
    "\n",
    "\t\t\t# Desenhar letras prevista\n",
    "\t\ttexto_previsao = \"\".join(previsao)\n",
    "\t\tprint(texto_previsao)\n",
    "\t\treturn texto_previsao\n",
    "\n",
    "if __name__ == \"__main__\":\n",
    "\tquebrar_captcha()"
   ]
  },
  {
   "cell_type": "code",
   "execution_count": null,
   "id": "06f590f1",
   "metadata": {},
   "outputs": [],
   "source": []
  }
 ],
 "metadata": {
  "kernelspec": {
   "display_name": "Python 3 (ipykernel)",
   "language": "python",
   "name": "python3"
  },
  "language_info": {
   "codemirror_mode": {
    "name": "ipython",
    "version": 3
   },
   "file_extension": ".py",
   "mimetype": "text/x-python",
   "name": "python",
   "nbconvert_exporter": "python",
   "pygments_lexer": "ipython3",
   "version": "3.8.10"
  }
 },
 "nbformat": 4,
 "nbformat_minor": 5
}
