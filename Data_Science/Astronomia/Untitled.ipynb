{
 "cells": [
  {
   "cell_type": "code",
   "execution_count": 1,
   "metadata": {},
   "outputs": [],
   "source": [
    "import pandas as pd\n",
    "import seaborn as sns\n",
    "import numpy as np\n",
    "import matplotlib.pyplot as plt"
   ]
  },
  {
   "cell_type": "code",
   "execution_count": 2,
   "metadata": {},
   "outputs": [],
   "source": [
    "dados = pd.read_csv('SLOAN.csv')"
   ]
  },
  {
   "cell_type": "code",
   "execution_count": 3,
   "metadata": {},
   "outputs": [
    {
     "data": {
      "text/html": [
       "<div>\n",
       "<style scoped>\n",
       "    .dataframe tbody tr th:only-of-type {\n",
       "        vertical-align: middle;\n",
       "    }\n",
       "\n",
       "    .dataframe tbody tr th {\n",
       "        vertical-align: top;\n",
       "    }\n",
       "\n",
       "    .dataframe thead th {\n",
       "        text-align: right;\n",
       "    }\n",
       "</style>\n",
       "<table border=\"1\" class=\"dataframe\">\n",
       "  <thead>\n",
       "    <tr style=\"text-align: right;\">\n",
       "      <th></th>\n",
       "      <th>ra</th>\n",
       "      <th>dec</th>\n",
       "      <th>classe</th>\n",
       "      <th>B-V</th>\n",
       "      <th>FeH</th>\n",
       "      <th>LogG</th>\n",
       "      <th>TEff</th>\n",
       "      <th>g</th>\n",
       "      <th>i</th>\n",
       "      <th>r</th>\n",
       "      <th>u</th>\n",
       "      <th>z</th>\n",
       "      <th>subclasse</th>\n",
       "      <th>redshift</th>\n",
       "    </tr>\n",
       "  </thead>\n",
       "  <tbody>\n",
       "    <tr>\n",
       "      <th>0</th>\n",
       "      <td>319.81589</td>\n",
       "      <td>-3.040641</td>\n",
       "      <td>GALAXY</td>\n",
       "      <td>0.0</td>\n",
       "      <td>0.0</td>\n",
       "      <td>0.0</td>\n",
       "      <td>0.0</td>\n",
       "      <td>0.392922</td>\n",
       "      <td>6.778811</td>\n",
       "      <td>2.759049</td>\n",
       "      <td>0.485811</td>\n",
       "      <td>11.827832</td>\n",
       "      <td>NaN</td>\n",
       "      <td>0.467188</td>\n",
       "    </tr>\n",
       "    <tr>\n",
       "      <th>1</th>\n",
       "      <td>319.88321</td>\n",
       "      <td>-2.850937</td>\n",
       "      <td>GALAXY</td>\n",
       "      <td>0.0</td>\n",
       "      <td>0.0</td>\n",
       "      <td>0.0</td>\n",
       "      <td>0.0</td>\n",
       "      <td>1.766572</td>\n",
       "      <td>16.866549</td>\n",
       "      <td>9.214419</td>\n",
       "      <td>0.655763</td>\n",
       "      <td>25.678196</td>\n",
       "      <td>NaN</td>\n",
       "      <td>0.335941</td>\n",
       "    </tr>\n",
       "    <tr>\n",
       "      <th>2</th>\n",
       "      <td>319.78827</td>\n",
       "      <td>-2.945794</td>\n",
       "      <td>GALAXY</td>\n",
       "      <td>0.0</td>\n",
       "      <td>0.0</td>\n",
       "      <td>0.0</td>\n",
       "      <td>0.0</td>\n",
       "      <td>0.747166</td>\n",
       "      <td>9.018719</td>\n",
       "      <td>3.880855</td>\n",
       "      <td>0.313001</td>\n",
       "      <td>15.715904</td>\n",
       "      <td>NaN</td>\n",
       "      <td>0.527530</td>\n",
       "    </tr>\n",
       "    <tr>\n",
       "      <th>3</th>\n",
       "      <td>319.84679</td>\n",
       "      <td>-3.035874</td>\n",
       "      <td>GALAXY</td>\n",
       "      <td>0.0</td>\n",
       "      <td>0.0</td>\n",
       "      <td>0.0</td>\n",
       "      <td>0.0</td>\n",
       "      <td>0.983140</td>\n",
       "      <td>17.727135</td>\n",
       "      <td>7.228017</td>\n",
       "      <td>0.267782</td>\n",
       "      <td>29.746500</td>\n",
       "      <td>NaN</td>\n",
       "      <td>0.464057</td>\n",
       "    </tr>\n",
       "    <tr>\n",
       "      <th>4</th>\n",
       "      <td>319.80725</td>\n",
       "      <td>-2.721654</td>\n",
       "      <td>GALAXY</td>\n",
       "      <td>0.0</td>\n",
       "      <td>0.0</td>\n",
       "      <td>0.0</td>\n",
       "      <td>0.0</td>\n",
       "      <td>1.863380</td>\n",
       "      <td>23.468472</td>\n",
       "      <td>11.459862</td>\n",
       "      <td>0.789074</td>\n",
       "      <td>37.659229</td>\n",
       "      <td>NaN</td>\n",
       "      <td>0.400421</td>\n",
       "    </tr>\n",
       "  </tbody>\n",
       "</table>\n",
       "</div>"
      ],
      "text/plain": [
       "          ra       dec  classe  B-V  FeH  LogG  TEff         g          i  \\\n",
       "0  319.81589 -3.040641  GALAXY  0.0  0.0   0.0   0.0  0.392922   6.778811   \n",
       "1  319.88321 -2.850937  GALAXY  0.0  0.0   0.0   0.0  1.766572  16.866549   \n",
       "2  319.78827 -2.945794  GALAXY  0.0  0.0   0.0   0.0  0.747166   9.018719   \n",
       "3  319.84679 -3.035874  GALAXY  0.0  0.0   0.0   0.0  0.983140  17.727135   \n",
       "4  319.80725 -2.721654  GALAXY  0.0  0.0   0.0   0.0  1.863380  23.468472   \n",
       "\n",
       "           r         u          z subclasse  redshift  \n",
       "0   2.759049  0.485811  11.827832       NaN  0.467188  \n",
       "1   9.214419  0.655763  25.678196       NaN  0.335941  \n",
       "2   3.880855  0.313001  15.715904       NaN  0.527530  \n",
       "3   7.228017  0.267782  29.746500       NaN  0.464057  \n",
       "4  11.459862  0.789074  37.659229       NaN  0.400421  "
      ]
     },
     "execution_count": 3,
     "metadata": {},
     "output_type": "execute_result"
    }
   ],
   "source": [
    "dados.head()"
   ]
  },
  {
   "cell_type": "code",
   "execution_count": 4,
   "metadata": {},
   "outputs": [
    {
     "data": {
      "text/plain": [
       "Text(0, 0.5, 'Quantidade')"
      ]
     },
     "execution_count": 4,
     "metadata": {},
     "output_type": "execute_result"
    },
    {
     "data": {
      "image/png": "[encoded data removed]",
      "text/plain": [
       "<Figure size 432x288 with 1 Axes>"
      ]
     },
     "metadata": {
      "needs_background": "light"
     },
     "output_type": "display_data"
    }
   ],
   "source": [
    "sns.countplot(x=dados['classe'])\n",
    "plt.ylabel('Quantidade')"
   ]
  },
  {
   "cell_type": "code",
   "execution_count": 5,
   "metadata": {},
   "outputs": [],
   "source": [
    "estrelas = dados[dados['classe']=='STAR']\n",
    "galaxias = dados[dados['classe']=='GALAXY']\n",
    "qso = dados[dados['classe']=='QSO']"
   ]
  },
  {
   "cell_type": "code",
   "execution_count": 6,
   "metadata": {},
   "outputs": [
    {
     "data": {
      "text/html": [
       "<div>\n",
       "<style scoped>\n",
       "    .dataframe tbody tr th:only-of-type {\n",
       "        vertical-align: middle;\n",
       "    }\n",
       "\n",
       "    .dataframe tbody tr th {\n",
       "        vertical-align: top;\n",
       "    }\n",
       "\n",
       "    .dataframe thead th {\n",
       "        text-align: right;\n",
       "    }\n",
       "</style>\n",
       "<table border=\"1\" class=\"dataframe\">\n",
       "  <thead>\n",
       "    <tr style=\"text-align: right;\">\n",
       "      <th></th>\n",
       "      <th>ra</th>\n",
       "      <th>dec</th>\n",
       "      <th>classe</th>\n",
       "      <th>B-V</th>\n",
       "      <th>FeH</th>\n",
       "      <th>LogG</th>\n",
       "      <th>TEff</th>\n",
       "      <th>g</th>\n",
       "      <th>i</th>\n",
       "      <th>r</th>\n",
       "      <th>u</th>\n",
       "      <th>z</th>\n",
       "      <th>subclasse</th>\n",
       "      <th>redshift</th>\n",
       "    </tr>\n",
       "  </thead>\n",
       "  <tbody>\n",
       "    <tr>\n",
       "      <th>9</th>\n",
       "      <td>319.89143</td>\n",
       "      <td>-2.631664</td>\n",
       "      <td>STAR</td>\n",
       "      <td>0.18</td>\n",
       "      <td>-2.09</td>\n",
       "      <td>2.497</td>\n",
       "      <td>6537.0</td>\n",
       "      <td>1.874528</td>\n",
       "      <td>5.158816</td>\n",
       "      <td>4.124888</td>\n",
       "      <td>0.795603</td>\n",
       "      <td>5.396394</td>\n",
       "      <td>K3V (32147)</td>\n",
       "      <td>-0.000768</td>\n",
       "    </tr>\n",
       "  </tbody>\n",
       "</table>\n",
       "</div>"
      ],
      "text/plain": [
       "          ra       dec classe   B-V   FeH   LogG    TEff         g         i  \\\n",
       "9  319.89143 -2.631664   STAR  0.18 -2.09  2.497  6537.0  1.874528  5.158816   \n",
       "\n",
       "          r         u         z    subclasse  redshift  \n",
       "9  4.124888  0.795603  5.396394  K3V (32147) -0.000768  "
      ]
     },
     "execution_count": 6,
     "metadata": {},
     "output_type": "execute_result"
    }
   ],
   "source": [
    "estrelas.head(1)"
   ]
  },
  {
   "cell_type": "code",
   "execution_count": 7,
   "metadata": {},
   "outputs": [],
   "source": [
    "def tipo_espectral(x):\n",
    "    return x[0]"
   ]
  },
  {
   "cell_type": "code",
   "execution_count": 8,
   "metadata": {},
   "outputs": [
    {
     "name": "stderr",
     "output_type": "stream",
     "text": [
      "<ipython-input-8-65275206cd30>:1: SettingWithCopyWarning: \n",
      "A value is trying to be set on a copy of a slice from a DataFrame.\n",
      "Try using .loc[row_indexer,col_indexer] = value instead\n",
      "\n",
      "See the caveats in the documentation: https://pandas.pydata.org/pandas-docs/stable/user_guide/indexing.html#returning-a-view-versus-a-copy\n",
      "  estrelas['Espectro_Tipo'] = estrelas['subclasse'].apply(tipo_espectral)\n"
     ]
    }
   ],
   "source": [
    "estrelas['Espectro_Tipo'] = estrelas['subclasse'].apply(tipo_espectral)"
   ]
  },
  {
   "cell_type": "code",
   "execution_count": 9,
   "metadata": {},
   "outputs": [
    {
     "data": {
      "text/html": [
       "<div>\n",
       "<style scoped>\n",
       "    .dataframe tbody tr th:only-of-type {\n",
       "        vertical-align: middle;\n",
       "    }\n",
       "\n",
       "    .dataframe tbody tr th {\n",
       "        vertical-align: top;\n",
       "    }\n",
       "\n",
       "    .dataframe thead th {\n",
       "        text-align: right;\n",
       "    }\n",
       "</style>\n",
       "<table border=\"1\" class=\"dataframe\">\n",
       "  <thead>\n",
       "    <tr style=\"text-align: right;\">\n",
       "      <th></th>\n",
       "      <th>ra</th>\n",
       "      <th>dec</th>\n",
       "      <th>classe</th>\n",
       "      <th>B-V</th>\n",
       "      <th>FeH</th>\n",
       "      <th>LogG</th>\n",
       "      <th>TEff</th>\n",
       "      <th>g</th>\n",
       "      <th>i</th>\n",
       "      <th>r</th>\n",
       "      <th>u</th>\n",
       "      <th>z</th>\n",
       "      <th>subclasse</th>\n",
       "      <th>redshift</th>\n",
       "      <th>Espectro_Tipo</th>\n",
       "    </tr>\n",
       "  </thead>\n",
       "  <tbody>\n",
       "    <tr>\n",
       "      <th>9</th>\n",
       "      <td>319.89143</td>\n",
       "      <td>-2.631664</td>\n",
       "      <td>STAR</td>\n",
       "      <td>0.180</td>\n",
       "      <td>-2.09</td>\n",
       "      <td>2.497</td>\n",
       "      <td>6537.0</td>\n",
       "      <td>1.874528</td>\n",
       "      <td>5.158816</td>\n",
       "      <td>4.124888</td>\n",
       "      <td>0.795603</td>\n",
       "      <td>5.396394</td>\n",
       "      <td>K3V (32147)</td>\n",
       "      <td>-0.000768</td>\n",
       "      <td>K</td>\n",
       "    </tr>\n",
       "    <tr>\n",
       "      <th>11</th>\n",
       "      <td>319.93173</td>\n",
       "      <td>-2.513280</td>\n",
       "      <td>STAR</td>\n",
       "      <td>0.180</td>\n",
       "      <td>-2.09</td>\n",
       "      <td>2.497</td>\n",
       "      <td>6537.0</td>\n",
       "      <td>52.229191</td>\n",
       "      <td>240.609756</td>\n",
       "      <td>163.884537</td>\n",
       "      <td>5.126666</td>\n",
       "      <td>287.497894</td>\n",
       "      <td>K5Ve (118100)</td>\n",
       "      <td>-0.000036</td>\n",
       "      <td>K</td>\n",
       "    </tr>\n",
       "    <tr>\n",
       "      <th>17</th>\n",
       "      <td>319.69723</td>\n",
       "      <td>-2.875851</td>\n",
       "      <td>STAR</td>\n",
       "      <td>0.429</td>\n",
       "      <td>-0.41</td>\n",
       "      <td>4.110</td>\n",
       "      <td>6180.0</td>\n",
       "      <td>0.710564</td>\n",
       "      <td>8.083809</td>\n",
       "      <td>2.986172</td>\n",
       "      <td>0.168455</td>\n",
       "      <td>14.090108</td>\n",
       "      <td>M5III (221615)</td>\n",
       "      <td>-0.000227</td>\n",
       "      <td>M</td>\n",
       "    </tr>\n",
       "    <tr>\n",
       "      <th>21</th>\n",
       "      <td>319.67268</td>\n",
       "      <td>-2.893204</td>\n",
       "      <td>STAR</td>\n",
       "      <td>0.647</td>\n",
       "      <td>-2.32</td>\n",
       "      <td>1.320</td>\n",
       "      <td>4949.0</td>\n",
       "      <td>2.813756</td>\n",
       "      <td>37.540585</td>\n",
       "      <td>9.894195</td>\n",
       "      <td>0.741145</td>\n",
       "      <td>83.796005</td>\n",
       "      <td>M5III (221615)</td>\n",
       "      <td>-0.000091</td>\n",
       "      <td>M</td>\n",
       "    </tr>\n",
       "    <tr>\n",
       "      <th>36</th>\n",
       "      <td>319.65156</td>\n",
       "      <td>-3.240867</td>\n",
       "      <td>STAR</td>\n",
       "      <td>0.647</td>\n",
       "      <td>-2.32</td>\n",
       "      <td>1.320</td>\n",
       "      <td>4949.0</td>\n",
       "      <td>0.664964</td>\n",
       "      <td>5.622318</td>\n",
       "      <td>2.512684</td>\n",
       "      <td>0.421322</td>\n",
       "      <td>9.896644</td>\n",
       "      <td>M1 (204445)</td>\n",
       "      <td>0.000034</td>\n",
       "      <td>M</td>\n",
       "    </tr>\n",
       "  </tbody>\n",
       "</table>\n",
       "</div>"
      ],
      "text/plain": [
       "           ra       dec classe    B-V   FeH   LogG    TEff          g  \\\n",
       "9   319.89143 -2.631664   STAR  0.180 -2.09  2.497  6537.0   1.874528   \n",
       "11  319.93173 -2.513280   STAR  0.180 -2.09  2.497  6537.0  52.229191   \n",
       "17  319.69723 -2.875851   STAR  0.429 -0.41  4.110  6180.0   0.710564   \n",
       "21  319.67268 -2.893204   STAR  0.647 -2.32  1.320  4949.0   2.813756   \n",
       "36  319.65156 -3.240867   STAR  0.647 -2.32  1.320  4949.0   0.664964   \n",
       "\n",
       "             i           r         u           z       subclasse  redshift  \\\n",
       "9     5.158816    4.124888  0.795603    5.396394     K3V (32147) -0.000768   \n",
       "11  240.609756  163.884537  5.126666  287.497894   K5Ve (118100) -0.000036   \n",
       "17    8.083809    2.986172  0.168455   14.090108  M5III (221615) -0.000227   \n",
       "21   37.540585    9.894195  0.741145   83.796005  M5III (221615) -0.000091   \n",
       "36    5.622318    2.512684  0.421322    9.896644     M1 (204445)  0.000034   \n",
       "\n",
       "   Espectro_Tipo  \n",
       "9              K  \n",
       "11             K  \n",
       "17             M  \n",
       "21             M  \n",
       "36             M  "
      ]
     },
     "execution_count": 9,
     "metadata": {},
     "output_type": "execute_result"
    }
   ],
   "source": [
    "estrelas.head()"
   ]
  },
  {
   "cell_type": "code",
   "execution_count": 10,
   "metadata": {},
   "outputs": [
    {
     "data": {
      "text/plain": [
       "<matplotlib.axes._subplots.AxesSubplot at 0x7fbfb094b1f0>"
      ]
     },
     "execution_count": 10,
     "metadata": {},
     "output_type": "execute_result"
    },
    {
     "data": {
      "image/png": "[encoded data removed]",
      "text/plain": [
       "<Figure size 720x360 with 1 Axes>"
      ]
     },
     "metadata": {
      "needs_background": "light"
     },
     "output_type": "display_data"
    }
   ],
   "source": [
    "plt.figure(figsize=(10,5))\n",
    "sns.scatterplot(x=estrelas['B-V'],y=estrelas['TEff'],hue='Espectro_Tipo',data=estrelas)"
   ]
  },
  {
   "cell_type": "code",
   "execution_count": 11,
   "metadata": {},
   "outputs": [
    {
     "data": {
      "text/plain": [
       "<matplotlib.axes._subplots.AxesSubplot at 0x7fbf84dcf100>"
      ]
     },
     "execution_count": 11,
     "metadata": {},
     "output_type": "execute_result"
    },
    {
     "data": {
      "image/png": "[encoded data removed]",
      "text/plain": [
       "<Figure size 432x288 with 1 Axes>"
      ]
     },
     "metadata": {
      "needs_background": "light"
     },
     "output_type": "display_data"
    }
   ],
   "source": [
    "sns.countplot(x=estrelas['Espectro_Tipo'])"
   ]
  },
  {
   "cell_type": "code",
   "execution_count": 12,
   "metadata": {},
   "outputs": [],
   "source": [
    "estrelas.to_csv('Estrelas_SLOAN.csv',index=False)"
   ]
  },
  {
   "cell_type": "code",
   "execution_count": 13,
   "metadata": {},
   "outputs": [
    {
     "data": {
      "text/html": [
       "<div>\n",
       "<style scoped>\n",
       "    .dataframe tbody tr th:only-of-type {\n",
       "        vertical-align: middle;\n",
       "    }\n",
       "\n",
       "    .dataframe tbody tr th {\n",
       "        vertical-align: top;\n",
       "    }\n",
       "\n",
       "    .dataframe thead th {\n",
       "        text-align: right;\n",
       "    }\n",
       "</style>\n",
       "<table border=\"1\" class=\"dataframe\">\n",
       "  <thead>\n",
       "    <tr style=\"text-align: right;\">\n",
       "      <th></th>\n",
       "      <th>ra</th>\n",
       "      <th>dec</th>\n",
       "      <th>classe</th>\n",
       "      <th>B-V</th>\n",
       "      <th>FeH</th>\n",
       "      <th>LogG</th>\n",
       "      <th>TEff</th>\n",
       "      <th>g</th>\n",
       "      <th>i</th>\n",
       "      <th>r</th>\n",
       "      <th>u</th>\n",
       "      <th>z</th>\n",
       "      <th>subclasse</th>\n",
       "      <th>redshift</th>\n",
       "    </tr>\n",
       "  </thead>\n",
       "  <tbody>\n",
       "    <tr>\n",
       "      <th>0</th>\n",
       "      <td>319.81589</td>\n",
       "      <td>-3.040641</td>\n",
       "      <td>GALAXY</td>\n",
       "      <td>0.0</td>\n",
       "      <td>0.0</td>\n",
       "      <td>0.0</td>\n",
       "      <td>0.0</td>\n",
       "      <td>0.392922</td>\n",
       "      <td>6.778811</td>\n",
       "      <td>2.759049</td>\n",
       "      <td>0.485811</td>\n",
       "      <td>11.827832</td>\n",
       "      <td>NaN</td>\n",
       "      <td>0.467188</td>\n",
       "    </tr>\n",
       "  </tbody>\n",
       "</table>\n",
       "</div>"
      ],
      "text/plain": [
       "          ra       dec  classe  B-V  FeH  LogG  TEff         g         i  \\\n",
       "0  319.81589 -3.040641  GALAXY  0.0  0.0   0.0   0.0  0.392922  6.778811   \n",
       "\n",
       "          r         u          z subclasse  redshift  \n",
       "0  2.759049  0.485811  11.827832       NaN  0.467188  "
      ]
     },
     "execution_count": 13,
     "metadata": {},
     "output_type": "execute_result"
    }
   ],
   "source": [
    "galaxias.head(1)"
   ]
  },
  {
   "cell_type": "code",
   "execution_count": 14,
   "metadata": {},
   "outputs": [
    {
     "data": {
      "text/plain": [
       "STARFORMING              55258\n",
       "STARBURST                13669\n",
       "AGN                       4381\n",
       "BROADLINE                 3530\n",
       "AGN BROADLINE              611\n",
       "STARFORMING BROADLINE      274\n",
       "STARBURST BROADLINE         34\n",
       "Name: subclasse, dtype: int64"
      ]
     },
     "execution_count": 14,
     "metadata": {},
     "output_type": "execute_result"
    }
   ],
   "source": [
    "galaxias['subclasse'].value_counts()"
   ]
  },
  {
   "cell_type": "code",
   "execution_count": 15,
   "metadata": {},
   "outputs": [],
   "source": [
    "def fix_subclasse(x):\n",
    "    if(x=='AGN BROADLINE'):\n",
    "        return 'AGN'\n",
    "    elif(x=='STARFORMING BROADLINE'):\n",
    "        return 'STARFORMING'\n",
    "    elif(x=='STARBURST BROADLINE'):\n",
    "        return 'STARBURST'\n",
    "    else:\n",
    "        return x"
   ]
  },
  {
   "cell_type": "code",
   "execution_count": 16,
   "metadata": {},
   "outputs": [
    {
     "name": "stderr",
     "output_type": "stream",
     "text": [
      "<ipython-input-16-84e2a6b4235d>:1: SettingWithCopyWarning: \n",
      "A value is trying to be set on a copy of a slice from a DataFrame.\n",
      "Try using .loc[row_indexer,col_indexer] = value instead\n",
      "\n",
      "See the caveats in the documentation: https://pandas.pydata.org/pandas-docs/stable/user_guide/indexing.html#returning-a-view-versus-a-copy\n",
      "  galaxias['subclasse'] = galaxias['subclasse'].apply(fix_subclasse)\n"
     ]
    }
   ],
   "source": [
    "galaxias['subclasse'] = galaxias['subclasse'].apply(fix_subclasse)"
   ]
  },
  {
   "cell_type": "code",
   "execution_count": 17,
   "metadata": {},
   "outputs": [
    {
     "data": {
      "text/plain": [
       "<matplotlib.axes._subplots.AxesSubplot at 0x7fbf83c53100>"
      ]
     },
     "execution_count": 17,
     "metadata": {},
     "output_type": "execute_result"
    },
    {
     "data": {
      "image/png": "[encoded data removed]",
      "text/plain": [
       "<Figure size 432x288 with 1 Axes>"
      ]
     },
     "metadata": {
      "needs_background": "light"
     },
     "output_type": "display_data"
    }
   ],
   "source": [
    "sns.countplot(x=galaxias['subclasse'])"
   ]
  },
  {
   "cell_type": "code",
   "execution_count": 18,
   "metadata": {},
   "outputs": [],
   "source": [
    "galaxias = galaxias.drop(['B-V','FeH','LogG','TEff'],axis=1)"
   ]
  },
  {
   "cell_type": "code",
   "execution_count": 19,
   "metadata": {},
   "outputs": [
    {
     "data": {
      "text/html": [
       "<div>\n",
       "<style scoped>\n",
       "    .dataframe tbody tr th:only-of-type {\n",
       "        vertical-align: middle;\n",
       "    }\n",
       "\n",
       "    .dataframe tbody tr th {\n",
       "        vertical-align: top;\n",
       "    }\n",
       "\n",
       "    .dataframe thead th {\n",
       "        text-align: right;\n",
       "    }\n",
       "</style>\n",
       "<table border=\"1\" class=\"dataframe\">\n",
       "  <thead>\n",
       "    <tr style=\"text-align: right;\">\n",
       "      <th></th>\n",
       "      <th>ra</th>\n",
       "      <th>dec</th>\n",
       "      <th>classe</th>\n",
       "      <th>g</th>\n",
       "      <th>i</th>\n",
       "      <th>r</th>\n",
       "      <th>u</th>\n",
       "      <th>z</th>\n",
       "      <th>subclasse</th>\n",
       "      <th>redshift</th>\n",
       "    </tr>\n",
       "  </thead>\n",
       "  <tbody>\n",
       "    <tr>\n",
       "      <th>0</th>\n",
       "      <td>319.81589</td>\n",
       "      <td>-3.040641</td>\n",
       "      <td>GALAXY</td>\n",
       "      <td>0.392922</td>\n",
       "      <td>6.778811</td>\n",
       "      <td>2.759049</td>\n",
       "      <td>0.485811</td>\n",
       "      <td>11.827832</td>\n",
       "      <td>NaN</td>\n",
       "      <td>0.467188</td>\n",
       "    </tr>\n",
       "    <tr>\n",
       "      <th>1</th>\n",
       "      <td>319.88321</td>\n",
       "      <td>-2.850937</td>\n",
       "      <td>GALAXY</td>\n",
       "      <td>1.766572</td>\n",
       "      <td>16.866549</td>\n",
       "      <td>9.214419</td>\n",
       "      <td>0.655763</td>\n",
       "      <td>25.678196</td>\n",
       "      <td>NaN</td>\n",
       "      <td>0.335941</td>\n",
       "    </tr>\n",
       "    <tr>\n",
       "      <th>2</th>\n",
       "      <td>319.78827</td>\n",
       "      <td>-2.945794</td>\n",
       "      <td>GALAXY</td>\n",
       "      <td>0.747166</td>\n",
       "      <td>9.018719</td>\n",
       "      <td>3.880855</td>\n",
       "      <td>0.313001</td>\n",
       "      <td>15.715904</td>\n",
       "      <td>NaN</td>\n",
       "      <td>0.527530</td>\n",
       "    </tr>\n",
       "    <tr>\n",
       "      <th>3</th>\n",
       "      <td>319.84679</td>\n",
       "      <td>-3.035874</td>\n",
       "      <td>GALAXY</td>\n",
       "      <td>0.983140</td>\n",
       "      <td>17.727135</td>\n",
       "      <td>7.228017</td>\n",
       "      <td>0.267782</td>\n",
       "      <td>29.746500</td>\n",
       "      <td>NaN</td>\n",
       "      <td>0.464057</td>\n",
       "    </tr>\n",
       "    <tr>\n",
       "      <th>4</th>\n",
       "      <td>319.80725</td>\n",
       "      <td>-2.721654</td>\n",
       "      <td>GALAXY</td>\n",
       "      <td>1.863380</td>\n",
       "      <td>23.468472</td>\n",
       "      <td>11.459862</td>\n",
       "      <td>0.789074</td>\n",
       "      <td>37.659229</td>\n",
       "      <td>NaN</td>\n",
       "      <td>0.400421</td>\n",
       "    </tr>\n",
       "  </tbody>\n",
       "</table>\n",
       "</div>"
      ],
      "text/plain": [
       "          ra       dec  classe         g          i          r         u  \\\n",
       "0  319.81589 -3.040641  GALAXY  0.392922   6.778811   2.759049  0.485811   \n",
       "1  319.88321 -2.850937  GALAXY  1.766572  16.866549   9.214419  0.655763   \n",
       "2  319.78827 -2.945794  GALAXY  0.747166   9.018719   3.880855  0.313001   \n",
       "3  319.84679 -3.035874  GALAXY  0.983140  17.727135   7.228017  0.267782   \n",
       "4  319.80725 -2.721654  GALAXY  1.863380  23.468472  11.459862  0.789074   \n",
       "\n",
       "           z subclasse  redshift  \n",
       "0  11.827832       NaN  0.467188  \n",
       "1  25.678196       NaN  0.335941  \n",
       "2  15.715904       NaN  0.527530  \n",
       "3  29.746500       NaN  0.464057  \n",
       "4  37.659229       NaN  0.400421  "
      ]
     },
     "execution_count": 19,
     "metadata": {},
     "output_type": "execute_result"
    }
   ],
   "source": [
    "galaxias.head()"
   ]
  },
  {
   "cell_type": "code",
   "execution_count": 20,
   "metadata": {},
   "outputs": [],
   "source": [
    "galaxias.to_csv('Galaxias_SLOAN.csv',index=False)"
   ]
  },
  {
   "cell_type": "code",
   "execution_count": 21,
   "metadata": {},
   "outputs": [],
   "source": [
    "galaxias_teste = galaxias[galaxias['subclasse'].isna()]"
   ]
  },
  {
   "cell_type": "code",
   "execution_count": 22,
   "metadata": {},
   "outputs": [],
   "source": [
    "galaxias = galaxias.dropna(subset=['subclasse'])"
   ]
  },
  {
   "cell_type": "code",
   "execution_count": null,
   "metadata": {},
   "outputs": [],
   "source": []
  }
 ],
 "metadata": {
  "kernelspec": {
   "display_name": "Python 3",
   "language": "python",
   "name": "python3"
  },
  "language_info": {
   "codemirror_mode": {
    "name": "ipython",
    "version": 3
   },
   "file_extension": ".py",
   "mimetype": "text/x-python",
   "name": "python",
   "nbconvert_exporter": "python",
   "pygments_lexer": "ipython3",
   "version": "3.8.3"
  }
 },
 "nbformat": 4,
 "nbformat_minor": 4
}
