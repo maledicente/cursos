{
 "cells": [
  {
   "cell_type": "markdown",
   "metadata": {},
   "source": [
    "# Bolsa de valores"
   ]
  },
  {
   "cell_type": "markdown",
   "metadata": {},
   "source": [
    "Prevendo o volume de ações utilizando o modelo Random Forest Regressor com inclusão de indicadores financeiros como CMO, DX e MFI"
   ]
  },
  {
   "cell_type": "markdown",
   "metadata": {},
   "source": [
    "* Utilizaremos dados do Yahoo Finance da PETR4 num intervalo de tempo específico"
   ]
  },
  {
   "cell_type": "markdown",
   "metadata": {},
   "source": [
    "* Dados serão obtido através da biblioteca Pandas DataReader"
   ]
  },
  {
   "cell_type": "markdown",
   "metadata": {},
   "source": [
    "Importando bibliotecas"
   ]
  },
  {
   "cell_type": "code",
   "execution_count": 39,
   "metadata": {},
   "outputs": [],
   "source": [
    "import datetime as dt\n",
    "import pandas_datareader.data as web\n",
    "import matplotlib.pyplot as plt\n",
    "import numpy as np"
   ]
  },
  {
   "cell_type": "markdown",
   "metadata": {},
   "source": [
    "Definindo janela de tempo"
   ]
  },
  {
   "cell_type": "code",
   "execution_count": 40,
   "metadata": {},
   "outputs": [],
   "source": [
    "start = dt.datetime(2018,1,1)\n",
    "end = dt.datetime(2020,9,30)"
   ]
  },
  {
   "cell_type": "markdown",
   "metadata": {},
   "source": [
    "Obtendo dados da PETR4"
   ]
  },
  {
   "cell_type": "code",
   "execution_count": 41,
   "metadata": {},
   "outputs": [],
   "source": [
    "PETR4 = web.DataReader('PETR4.SA',\"yahoo\",start,end)"
   ]
  },
  {
   "cell_type": "markdown",
   "metadata": {},
   "source": [
    "Exibindo as cinco primeiras linhas"
   ]
  },
  {
   "cell_type": "code",
   "execution_count": 42,
   "metadata": {},
   "outputs": [
    {
     "data": {
      "text/html": [
       "<div>\n",
       "<style scoped>\n",
       "    .dataframe tbody tr th:only-of-type {\n",
       "        vertical-align: middle;\n",
       "    }\n",
       "\n",
       "    .dataframe tbody tr th {\n",
       "        vertical-align: top;\n",
       "    }\n",
       "\n",
       "    .dataframe thead th {\n",
       "        text-align: right;\n",
       "    }\n",
       "</style>\n",
       "<table border=\"1\" class=\"dataframe\">\n",
       "  <thead>\n",
       "    <tr style=\"text-align: right;\">\n",
       "      <th></th>\n",
       "      <th>High</th>\n",
       "      <th>Low</th>\n",
       "      <th>Open</th>\n",
       "      <th>Close</th>\n",
       "      <th>Volume</th>\n",
       "      <th>Adj Close</th>\n",
       "    </tr>\n",
       "    <tr>\n",
       "      <th>Date</th>\n",
       "      <th></th>\n",
       "      <th></th>\n",
       "      <th></th>\n",
       "      <th></th>\n",
       "      <th></th>\n",
       "      <th></th>\n",
       "    </tr>\n",
       "  </thead>\n",
       "  <tbody>\n",
       "    <tr>\n",
       "      <th>2018-01-02</th>\n",
       "      <td>16.549999</td>\n",
       "      <td>16.190001</td>\n",
       "      <td>16.190001</td>\n",
       "      <td>16.549999</td>\n",
       "      <td>33461800.0</td>\n",
       "      <td>15.353477</td>\n",
       "    </tr>\n",
       "    <tr>\n",
       "      <th>2018-01-03</th>\n",
       "      <td>16.719999</td>\n",
       "      <td>16.370001</td>\n",
       "      <td>16.490000</td>\n",
       "      <td>16.700001</td>\n",
       "      <td>55940900.0</td>\n",
       "      <td>15.492632</td>\n",
       "    </tr>\n",
       "    <tr>\n",
       "      <th>2018-01-04</th>\n",
       "      <td>16.959999</td>\n",
       "      <td>16.620001</td>\n",
       "      <td>16.780001</td>\n",
       "      <td>16.730000</td>\n",
       "      <td>37064900.0</td>\n",
       "      <td>15.520465</td>\n",
       "    </tr>\n",
       "    <tr>\n",
       "      <th>2018-01-05</th>\n",
       "      <td>16.860001</td>\n",
       "      <td>16.570000</td>\n",
       "      <td>16.700001</td>\n",
       "      <td>16.830000</td>\n",
       "      <td>26958200.0</td>\n",
       "      <td>15.613236</td>\n",
       "    </tr>\n",
       "    <tr>\n",
       "      <th>2018-01-08</th>\n",
       "      <td>17.030001</td>\n",
       "      <td>16.709999</td>\n",
       "      <td>16.740000</td>\n",
       "      <td>17.030001</td>\n",
       "      <td>28400000.0</td>\n",
       "      <td>15.798776</td>\n",
       "    </tr>\n",
       "  </tbody>\n",
       "</table>\n",
       "</div>"
      ],
      "text/plain": [
       "                 High        Low       Open      Close      Volume  Adj Close\n",
       "Date                                                                         \n",
       "2018-01-02  16.549999  16.190001  16.190001  16.549999  33461800.0  15.353477\n",
       "2018-01-03  16.719999  16.370001  16.490000  16.700001  55940900.0  15.492632\n",
       "2018-01-04  16.959999  16.620001  16.780001  16.730000  37064900.0  15.520465\n",
       "2018-01-05  16.860001  16.570000  16.700001  16.830000  26958200.0  15.613236\n",
       "2018-01-08  17.030001  16.709999  16.740000  17.030001  28400000.0  15.798776"
      ]
     },
     "execution_count": 42,
     "metadata": {},
     "output_type": "execute_result"
    }
   ],
   "source": [
    "PETR4.head()"
   ]
  },
  {
   "cell_type": "markdown",
   "metadata": {},
   "source": [
    "Adicionando indicadores"
   ]
  },
  {
   "cell_type": "code",
   "execution_count": 43,
   "metadata": {},
   "outputs": [],
   "source": [
    "High = PETR4['High'].values\n",
    "Low = PETR4['Low'].values\n",
    "Open = PETR4['Open'].values\n",
    "Close = PETR4['Close'].values\n",
    "Volume = PETR4['Volume'].values"
   ]
  },
  {
   "cell_type": "code",
   "execution_count": 44,
   "metadata": {},
   "outputs": [],
   "source": [
    "from talib._ta_lib import ADX, APO, CCI, CMO, DX, RSI, DX, MACD, MFI, ROC, RSI, ULTOSC"
   ]
  },
  {
   "cell_type": "markdown",
   "metadata": {},
   "source": [
    "Indicador ADX"
   ]
  },
  {
   "cell_type": "code",
   "execution_count": 45,
   "metadata": {},
   "outputs": [],
   "source": [
    "PETR4['ADX'] = ADX(High, Low, Close, timeperiod=14)"
   ]
  },
  {
   "cell_type": "markdown",
   "metadata": {},
   "source": [
    "Indicador APO"
   ]
  },
  {
   "cell_type": "code",
   "execution_count": 46,
   "metadata": {},
   "outputs": [],
   "source": [
    "PETR4['APO'] = APO(Close, fastperiod=12, slowperiod=26, matype=0)"
   ]
  },
  {
   "cell_type": "markdown",
   "metadata": {},
   "source": [
    "Indicador CCI"
   ]
  },
  {
   "cell_type": "code",
   "execution_count": 47,
   "metadata": {},
   "outputs": [],
   "source": [
    "PETR4['CCI'] = CCI(High, Low, Close, timeperiod=14)"
   ]
  },
  {
   "cell_type": "markdown",
   "metadata": {},
   "source": [
    "Indicador CMO"
   ]
  },
  {
   "cell_type": "code",
   "execution_count": 48,
   "metadata": {},
   "outputs": [],
   "source": [
    "PETR4['CMO'] = CMO(Close, timeperiod=14)"
   ]
  },
  {
   "cell_type": "markdown",
   "metadata": {},
   "source": [
    "Indicador DX"
   ]
  },
  {
   "cell_type": "code",
   "execution_count": 49,
   "metadata": {},
   "outputs": [],
   "source": [
    "PETR4['DX'] = DX(High, Low, Close, timeperiod=14)"
   ]
  },
  {
   "cell_type": "markdown",
   "metadata": {},
   "source": [
    "Indicador MACD"
   ]
  },
  {
   "cell_type": "code",
   "execution_count": 50,
   "metadata": {},
   "outputs": [],
   "source": [
    "macd, macdsignal, macdhist = MACD(Close, fastperiod=12, slowperiod=26, signalperiod=9)"
   ]
  },
  {
   "cell_type": "code",
   "execution_count": 51,
   "metadata": {},
   "outputs": [],
   "source": [
    "PETR4['MACD'] = macd"
   ]
  },
  {
   "cell_type": "markdown",
   "metadata": {},
   "source": [
    "Indicador MFI"
   ]
  },
  {
   "cell_type": "code",
   "execution_count": 52,
   "metadata": {},
   "outputs": [],
   "source": [
    "PETR4['MFI'] = MFI(High, Low, Close, Volume, timeperiod=14)"
   ]
  },
  {
   "cell_type": "markdown",
   "metadata": {},
   "source": [
    "Indicador ROC"
   ]
  },
  {
   "cell_type": "code",
   "execution_count": 53,
   "metadata": {},
   "outputs": [],
   "source": [
    "PETR4['ROC'] = ROC(Close, timeperiod=14)"
   ]
  },
  {
   "cell_type": "markdown",
   "metadata": {},
   "source": [
    "Indicador RSI"
   ]
  },
  {
   "cell_type": "code",
   "execution_count": 54,
   "metadata": {},
   "outputs": [],
   "source": [
    "PETR4['RSI'] = RSI(Close, timeperiod=14)"
   ]
  },
  {
   "cell_type": "markdown",
   "metadata": {},
   "source": [
    "Indicador ULTOSC"
   ]
  },
  {
   "cell_type": "code",
   "execution_count": 55,
   "metadata": {},
   "outputs": [],
   "source": [
    "PETR4['ULTOSC'] = ULTOSC(High, Low, Close, timeperiod1=7, timeperiod2=14, timeperiod3=28)"
   ]
  },
  {
   "cell_type": "markdown",
   "metadata": {},
   "source": [
    "Verificando amostra"
   ]
  },
  {
   "cell_type": "code",
   "execution_count": 56,
   "metadata": {},
   "outputs": [
    {
     "data": {
      "text/html": [
       "<div>\n",
       "<style scoped>\n",
       "    .dataframe tbody tr th:only-of-type {\n",
       "        vertical-align: middle;\n",
       "    }\n",
       "\n",
       "    .dataframe tbody tr th {\n",
       "        vertical-align: top;\n",
       "    }\n",
       "\n",
       "    .dataframe thead th {\n",
       "        text-align: right;\n",
       "    }\n",
       "</style>\n",
       "<table border=\"1\" class=\"dataframe\">\n",
       "  <thead>\n",
       "    <tr style=\"text-align: right;\">\n",
       "      <th></th>\n",
       "      <th>High</th>\n",
       "      <th>Low</th>\n",
       "      <th>Open</th>\n",
       "      <th>Close</th>\n",
       "      <th>Volume</th>\n",
       "      <th>Adj Close</th>\n",
       "      <th>ADX</th>\n",
       "      <th>APO</th>\n",
       "      <th>CCI</th>\n",
       "      <th>CMO</th>\n",
       "      <th>DX</th>\n",
       "      <th>MACD</th>\n",
       "      <th>MFI</th>\n",
       "      <th>ROC</th>\n",
       "      <th>RSI</th>\n",
       "      <th>ULTOSC</th>\n",
       "    </tr>\n",
       "    <tr>\n",
       "      <th>Date</th>\n",
       "      <th></th>\n",
       "      <th></th>\n",
       "      <th></th>\n",
       "      <th></th>\n",
       "      <th></th>\n",
       "      <th></th>\n",
       "      <th></th>\n",
       "      <th></th>\n",
       "      <th></th>\n",
       "      <th></th>\n",
       "      <th></th>\n",
       "      <th></th>\n",
       "      <th></th>\n",
       "      <th></th>\n",
       "      <th></th>\n",
       "      <th></th>\n",
       "    </tr>\n",
       "  </thead>\n",
       "  <tbody>\n",
       "    <tr>\n",
       "      <th>2018-01-02</th>\n",
       "      <td>16.549999</td>\n",
       "      <td>16.190001</td>\n",
       "      <td>16.190001</td>\n",
       "      <td>16.549999</td>\n",
       "      <td>33461800.0</td>\n",
       "      <td>15.353477</td>\n",
       "      <td>NaN</td>\n",
       "      <td>NaN</td>\n",
       "      <td>NaN</td>\n",
       "      <td>NaN</td>\n",
       "      <td>NaN</td>\n",
       "      <td>NaN</td>\n",
       "      <td>NaN</td>\n",
       "      <td>NaN</td>\n",
       "      <td>NaN</td>\n",
       "      <td>NaN</td>\n",
       "    </tr>\n",
       "    <tr>\n",
       "      <th>2018-01-03</th>\n",
       "      <td>16.719999</td>\n",
       "      <td>16.370001</td>\n",
       "      <td>16.490000</td>\n",
       "      <td>16.700001</td>\n",
       "      <td>55940900.0</td>\n",
       "      <td>15.492632</td>\n",
       "      <td>NaN</td>\n",
       "      <td>NaN</td>\n",
       "      <td>NaN</td>\n",
       "      <td>NaN</td>\n",
       "      <td>NaN</td>\n",
       "      <td>NaN</td>\n",
       "      <td>NaN</td>\n",
       "      <td>NaN</td>\n",
       "      <td>NaN</td>\n",
       "      <td>NaN</td>\n",
       "    </tr>\n",
       "    <tr>\n",
       "      <th>2018-01-04</th>\n",
       "      <td>16.959999</td>\n",
       "      <td>16.620001</td>\n",
       "      <td>16.780001</td>\n",
       "      <td>16.730000</td>\n",
       "      <td>37064900.0</td>\n",
       "      <td>15.520465</td>\n",
       "      <td>NaN</td>\n",
       "      <td>NaN</td>\n",
       "      <td>NaN</td>\n",
       "      <td>NaN</td>\n",
       "      <td>NaN</td>\n",
       "      <td>NaN</td>\n",
       "      <td>NaN</td>\n",
       "      <td>NaN</td>\n",
       "      <td>NaN</td>\n",
       "      <td>NaN</td>\n",
       "    </tr>\n",
       "    <tr>\n",
       "      <th>2018-01-05</th>\n",
       "      <td>16.860001</td>\n",
       "      <td>16.570000</td>\n",
       "      <td>16.700001</td>\n",
       "      <td>16.830000</td>\n",
       "      <td>26958200.0</td>\n",
       "      <td>15.613236</td>\n",
       "      <td>NaN</td>\n",
       "      <td>NaN</td>\n",
       "      <td>NaN</td>\n",
       "      <td>NaN</td>\n",
       "      <td>NaN</td>\n",
       "      <td>NaN</td>\n",
       "      <td>NaN</td>\n",
       "      <td>NaN</td>\n",
       "      <td>NaN</td>\n",
       "      <td>NaN</td>\n",
       "    </tr>\n",
       "    <tr>\n",
       "      <th>2018-01-08</th>\n",
       "      <td>17.030001</td>\n",
       "      <td>16.709999</td>\n",
       "      <td>16.740000</td>\n",
       "      <td>17.030001</td>\n",
       "      <td>28400000.0</td>\n",
       "      <td>15.798776</td>\n",
       "      <td>NaN</td>\n",
       "      <td>NaN</td>\n",
       "      <td>NaN</td>\n",
       "      <td>NaN</td>\n",
       "      <td>NaN</td>\n",
       "      <td>NaN</td>\n",
       "      <td>NaN</td>\n",
       "      <td>NaN</td>\n",
       "      <td>NaN</td>\n",
       "      <td>NaN</td>\n",
       "    </tr>\n",
       "  </tbody>\n",
       "</table>\n",
       "</div>"
      ],
      "text/plain": [
       "                 High        Low       Open      Close      Volume  Adj Close  \\\n",
       "Date                                                                            \n",
       "2018-01-02  16.549999  16.190001  16.190001  16.549999  33461800.0  15.353477   \n",
       "2018-01-03  16.719999  16.370001  16.490000  16.700001  55940900.0  15.492632   \n",
       "2018-01-04  16.959999  16.620001  16.780001  16.730000  37064900.0  15.520465   \n",
       "2018-01-05  16.860001  16.570000  16.700001  16.830000  26958200.0  15.613236   \n",
       "2018-01-08  17.030001  16.709999  16.740000  17.030001  28400000.0  15.798776   \n",
       "\n",
       "            ADX  APO  CCI  CMO  DX  MACD  MFI  ROC  RSI  ULTOSC  \n",
       "Date                                                             \n",
       "2018-01-02  NaN  NaN  NaN  NaN NaN   NaN  NaN  NaN  NaN     NaN  \n",
       "2018-01-03  NaN  NaN  NaN  NaN NaN   NaN  NaN  NaN  NaN     NaN  \n",
       "2018-01-04  NaN  NaN  NaN  NaN NaN   NaN  NaN  NaN  NaN     NaN  \n",
       "2018-01-05  NaN  NaN  NaN  NaN NaN   NaN  NaN  NaN  NaN     NaN  \n",
       "2018-01-08  NaN  NaN  NaN  NaN NaN   NaN  NaN  NaN  NaN     NaN  "
      ]
     },
     "execution_count": 56,
     "metadata": {},
     "output_type": "execute_result"
    }
   ],
   "source": [
    "PETR4.head()"
   ]
  },
  {
   "cell_type": "markdown",
   "metadata": {},
   "source": [
    "Removendo NaNs"
   ]
  },
  {
   "cell_type": "code",
   "execution_count": 57,
   "metadata": {},
   "outputs": [],
   "source": [
    "PETR4 = PETR4.dropna()"
   ]
  },
  {
   "cell_type": "code",
   "execution_count": 58,
   "metadata": {},
   "outputs": [
    {
     "data": {
      "text/html": [
       "<div>\n",
       "<style scoped>\n",
       "    .dataframe tbody tr th:only-of-type {\n",
       "        vertical-align: middle;\n",
       "    }\n",
       "\n",
       "    .dataframe tbody tr th {\n",
       "        vertical-align: top;\n",
       "    }\n",
       "\n",
       "    .dataframe thead th {\n",
       "        text-align: right;\n",
       "    }\n",
       "</style>\n",
       "<table border=\"1\" class=\"dataframe\">\n",
       "  <thead>\n",
       "    <tr style=\"text-align: right;\">\n",
       "      <th></th>\n",
       "      <th>High</th>\n",
       "      <th>Low</th>\n",
       "      <th>Open</th>\n",
       "      <th>Close</th>\n",
       "      <th>Volume</th>\n",
       "      <th>Adj Close</th>\n",
       "      <th>ADX</th>\n",
       "      <th>APO</th>\n",
       "      <th>CCI</th>\n",
       "      <th>CMO</th>\n",
       "      <th>DX</th>\n",
       "      <th>MACD</th>\n",
       "      <th>MFI</th>\n",
       "      <th>ROC</th>\n",
       "      <th>RSI</th>\n",
       "      <th>ULTOSC</th>\n",
       "    </tr>\n",
       "    <tr>\n",
       "      <th>Date</th>\n",
       "      <th></th>\n",
       "      <th></th>\n",
       "      <th></th>\n",
       "      <th></th>\n",
       "      <th></th>\n",
       "      <th></th>\n",
       "      <th></th>\n",
       "      <th></th>\n",
       "      <th></th>\n",
       "      <th></th>\n",
       "      <th></th>\n",
       "      <th></th>\n",
       "      <th></th>\n",
       "      <th></th>\n",
       "      <th></th>\n",
       "      <th></th>\n",
       "    </tr>\n",
       "  </thead>\n",
       "  <tbody>\n",
       "    <tr>\n",
       "      <th>2018-02-21</th>\n",
       "      <td>20.879999</td>\n",
       "      <td>20.250000</td>\n",
       "      <td>20.590000</td>\n",
       "      <td>20.250000</td>\n",
       "      <td>55678400.0</td>\n",
       "      <td>18.785978</td>\n",
       "      <td>50.183427</td>\n",
       "      <td>0.547308</td>\n",
       "      <td>133.369296</td>\n",
       "      <td>25.947041</td>\n",
       "      <td>36.058930</td>\n",
       "      <td>0.764380</td>\n",
       "      <td>62.902391</td>\n",
       "      <td>2.015111</td>\n",
       "      <td>62.973520</td>\n",
       "      <td>49.747331</td>\n",
       "    </tr>\n",
       "    <tr>\n",
       "      <th>2018-02-22</th>\n",
       "      <td>20.820000</td>\n",
       "      <td>20.540001</td>\n",
       "      <td>20.590000</td>\n",
       "      <td>20.740000</td>\n",
       "      <td>38170900.0</td>\n",
       "      <td>19.240553</td>\n",
       "      <td>49.174534</td>\n",
       "      <td>0.433333</td>\n",
       "      <td>138.440140</td>\n",
       "      <td>32.487034</td>\n",
       "      <td>36.058930</td>\n",
       "      <td>0.790453</td>\n",
       "      <td>68.858693</td>\n",
       "      <td>6.413545</td>\n",
       "      <td>66.243517</td>\n",
       "      <td>55.799849</td>\n",
       "    </tr>\n",
       "    <tr>\n",
       "      <th>2018-02-23</th>\n",
       "      <td>21.139999</td>\n",
       "      <td>20.620001</td>\n",
       "      <td>20.950001</td>\n",
       "      <td>21.120001</td>\n",
       "      <td>55755600.0</td>\n",
       "      <td>19.593082</td>\n",
       "      <td>48.602845</td>\n",
       "      <td>0.384167</td>\n",
       "      <td>138.896529</td>\n",
       "      <td>37.124592</td>\n",
       "      <td>41.170888</td>\n",
       "      <td>0.832186</td>\n",
       "      <td>69.588028</td>\n",
       "      <td>7.208122</td>\n",
       "      <td>68.562296</td>\n",
       "      <td>62.209241</td>\n",
       "    </tr>\n",
       "    <tr>\n",
       "      <th>2018-02-26</th>\n",
       "      <td>21.690001</td>\n",
       "      <td>21.379999</td>\n",
       "      <td>21.400000</td>\n",
       "      <td>21.520000</td>\n",
       "      <td>48160500.0</td>\n",
       "      <td>19.964159</td>\n",
       "      <td>48.613662</td>\n",
       "      <td>0.441987</td>\n",
       "      <td>169.207081</td>\n",
       "      <td>41.666901</td>\n",
       "      <td>48.754283</td>\n",
       "      <td>0.887309</td>\n",
       "      <td>69.551632</td>\n",
       "      <td>4.873294</td>\n",
       "      <td>70.833450</td>\n",
       "      <td>60.302844</td>\n",
       "    </tr>\n",
       "    <tr>\n",
       "      <th>2018-02-27</th>\n",
       "      <td>21.850000</td>\n",
       "      <td>21.340000</td>\n",
       "      <td>21.469999</td>\n",
       "      <td>21.500000</td>\n",
       "      <td>42912500.0</td>\n",
       "      <td>19.945608</td>\n",
       "      <td>48.765791</td>\n",
       "      <td>0.447051</td>\n",
       "      <td>134.961225</td>\n",
       "      <td>41.117938</td>\n",
       "      <td>50.743471</td>\n",
       "      <td>0.918788</td>\n",
       "      <td>76.284543</td>\n",
       "      <td>7.661496</td>\n",
       "      <td>70.558969</td>\n",
       "      <td>59.156273</td>\n",
       "    </tr>\n",
       "  </tbody>\n",
       "</table>\n",
       "</div>"
      ],
      "text/plain": [
       "                 High        Low       Open      Close      Volume  Adj Close  \\\n",
       "Date                                                                            \n",
       "2018-02-21  20.879999  20.250000  20.590000  20.250000  55678400.0  18.785978   \n",
       "2018-02-22  20.820000  20.540001  20.590000  20.740000  38170900.0  19.240553   \n",
       "2018-02-23  21.139999  20.620001  20.950001  21.120001  55755600.0  19.593082   \n",
       "2018-02-26  21.690001  21.379999  21.400000  21.520000  48160500.0  19.964159   \n",
       "2018-02-27  21.850000  21.340000  21.469999  21.500000  42912500.0  19.945608   \n",
       "\n",
       "                  ADX       APO         CCI        CMO         DX      MACD  \\\n",
       "Date                                                                          \n",
       "2018-02-21  50.183427  0.547308  133.369296  25.947041  36.058930  0.764380   \n",
       "2018-02-22  49.174534  0.433333  138.440140  32.487034  36.058930  0.790453   \n",
       "2018-02-23  48.602845  0.384167  138.896529  37.124592  41.170888  0.832186   \n",
       "2018-02-26  48.613662  0.441987  169.207081  41.666901  48.754283  0.887309   \n",
       "2018-02-27  48.765791  0.447051  134.961225  41.117938  50.743471  0.918788   \n",
       "\n",
       "                  MFI       ROC        RSI     ULTOSC  \n",
       "Date                                                   \n",
       "2018-02-21  62.902391  2.015111  62.973520  49.747331  \n",
       "2018-02-22  68.858693  6.413545  66.243517  55.799849  \n",
       "2018-02-23  69.588028  7.208122  68.562296  62.209241  \n",
       "2018-02-26  69.551632  4.873294  70.833450  60.302844  \n",
       "2018-02-27  76.284543  7.661496  70.558969  59.156273  "
      ]
     },
     "execution_count": 58,
     "metadata": {},
     "output_type": "execute_result"
    }
   ],
   "source": [
    "PETR4.head()"
   ]
  },
  {
   "cell_type": "markdown",
   "metadata": {},
   "source": [
    "* Removendo High, Low, Open, Close, Adj Close"
   ]
  },
  {
   "cell_type": "code",
   "execution_count": 59,
   "metadata": {},
   "outputs": [],
   "source": [
    "PETR4 = PETR4.drop(['High','Low','Open','Close', 'Adj Close'],axis=1)"
   ]
  },
  {
   "cell_type": "markdown",
   "metadata": {},
   "source": [
    "* Normalizando dados do Volume"
   ]
  },
  {
   "cell_type": "code",
   "execution_count": 60,
   "metadata": {},
   "outputs": [],
   "source": [
    "from sklearn.preprocessing import RobustScaler"
   ]
  },
  {
   "cell_type": "code",
   "execution_count": 61,
   "metadata": {},
   "outputs": [],
   "source": [
    "scaler = RobustScaler()"
   ]
  },
  {
   "cell_type": "code",
   "execution_count": 62,
   "metadata": {},
   "outputs": [],
   "source": [
    "PETR4['Volume'] = scaler.fit_transform(PETR4['Volume'].values.reshape(-1, 1))"
   ]
  },
  {
   "cell_type": "markdown",
   "metadata": {},
   "source": [
    "Definindo variáveis X e Y"
   ]
  },
  {
   "cell_type": "code",
   "execution_count": 63,
   "metadata": {},
   "outputs": [],
   "source": [
    "X = PETR4.drop(['Volume'],axis=1)\n",
    "Y = PETR4['Volume']"
   ]
  },
  {
   "cell_type": "markdown",
   "metadata": {},
   "source": [
    "* Criando amostra de treino e teste"
   ]
  },
  {
   "cell_type": "code",
   "execution_count": 76,
   "metadata": {},
   "outputs": [],
   "source": [
    "X_treino = X[X.index<'2020-08-01']\n",
    "X_teste = X[X.index>='2020-08-01']\n",
    "\n",
    "Y_treino = Y[X.index<'2020-08-01']\n",
    "Y_teste = Y[X.index>='2020-08-01']"
   ]
  },
  {
   "cell_type": "markdown",
   "metadata": {},
   "source": [
    "* Prevendo volume utilizando modelo Random Forest Regressor"
   ]
  },
  {
   "cell_type": "code",
   "execution_count": 77,
   "metadata": {},
   "outputs": [],
   "source": [
    "from sklearn.ensemble import RandomForestRegressor"
   ]
  },
  {
   "cell_type": "code",
   "execution_count": 78,
   "metadata": {},
   "outputs": [],
   "source": [
    "rfr = RandomForestRegressor()"
   ]
  },
  {
   "cell_type": "code",
   "execution_count": null,
   "metadata": {},
   "outputs": [],
   "source": [
    "rfr.fit(X_treino,Y_treino)"
   ]
  },
  {
   "cell_type": "code",
   "execution_count": null,
   "metadata": {},
   "outputs": [],
   "source": [
    "Y_previsto = rfr.predict(X_teste)"
   ]
  },
  {
   "cell_type": "markdown",
   "metadata": {},
   "source": [
    "* Desnormalizando dados"
   ]
  },
  {
   "cell_type": "code",
   "execution_count": 69,
   "metadata": {},
   "outputs": [],
   "source": [
    "Y_previsto = scaler.inverse_transform(Y_previsto.reshape(-1, 1))"
   ]
  },
  {
   "cell_type": "code",
   "execution_count": 70,
   "metadata": {},
   "outputs": [],
   "source": [
    "Y_teste = scaler.inverse_transform(Y_teste.values.reshape(-1, 1))"
   ]
  },
  {
   "cell_type": "markdown",
   "metadata": {},
   "source": [
    "* Graficando Y_previsto em função de Y_teste"
   ]
  },
  {
   "cell_type": "code",
   "execution_count": 71,
   "metadata": {},
   "outputs": [
    {
     "data": {
      "image/png": "[encoded data removed]",
      "text/plain": [
       "<Figure size 432x288 with 1 Axes>"
      ]
     },
     "metadata": {
      "needs_background": "light"
     },
     "output_type": "display_data"
    }
   ],
   "source": [
    "plt.scatter(Y_teste,Y_previsto)\n",
    "plt.xlabel('Y_teste')\n",
    "plt.ylabel('Y_previsto')\n",
    "plt.tight_layout()"
   ]
  },
  {
   "cell_type": "markdown",
   "metadata": {},
   "source": [
    "Calculando métricas de erro"
   ]
  },
  {
   "cell_type": "code",
   "execution_count": 72,
   "metadata": {},
   "outputs": [],
   "source": [
    "from sklearn.metrics import mean_absolute_error, mean_squared_error"
   ]
  },
  {
   "cell_type": "code",
   "execution_count": 73,
   "metadata": {},
   "outputs": [],
   "source": [
    "def mean_absolute_percentage_error(y_true, y_pred): \n",
    "    y_true, y_pred = np.array(y_true), np.array(y_pred)\n",
    "    return np.mean(np.abs((y_true - y_pred) / y_true)) * 100"
   ]
  },
  {
   "cell_type": "code",
   "execution_count": 74,
   "metadata": {},
   "outputs": [],
   "source": [
    "MAE = mean_absolute_error(Y_teste,Y_previsto)\n",
    "MAPE = mean_absolute_percentage_error(Y_teste,Y_previsto)\n",
    "MSE = mean_squared_error(Y_teste,Y_previsto)\n",
    "RMSE = np.sqrt(MSE)"
   ]
  },
  {
   "cell_type": "code",
   "execution_count": 75,
   "metadata": {},
   "outputs": [
    {
     "name": "stdout",
     "output_type": "stream",
     "text": [
      "MAE = 2.56e+07\n",
      "MAPE = 30.71%\n",
      "MSE = 1.26e+15\n",
      "RMSE = 3.56e+07\n"
     ]
    }
   ],
   "source": [
    "print(\"MAE = {:0.2e}\".format(MAE))\n",
    "print(\"MAPE = {:0.2f}%\".format(MAPE))\n",
    "print(\"MSE = {:0.2e}\".format(MSE))\n",
    "print(\"RMSE = {:0.2e}\".format(RMSE))"
   ]
  },
  {
   "cell_type": "markdown",
   "metadata": {},
   "source": [
    "Podemos prever o valor com uma incerteza de 24.26%. Um pouco melhor do que o caso sem indicadores que foi de 28.78%. "
   ]
  },
  {
   "cell_type": "code",
   "execution_count": null,
   "metadata": {},
   "outputs": [],
   "source": []
  },
  {
   "cell_type": "code",
   "execution_count": null,
   "metadata": {},
   "outputs": [],
   "source": []
  }
 ],
 "metadata": {
  "kernelspec": {
   "display_name": "Python 3",
   "language": "python",
   "name": "python3"
  },
  "language_info": {
   "codemirror_mode": {
    "name": "ipython",
    "version": 3
   },
   "file_extension": ".py",
   "mimetype": "text/x-python",
   "name": "python",
   "nbconvert_exporter": "python",
   "pygments_lexer": "ipython3",
   "version": "3.8.3"
  }
 },
 "nbformat": 4,
 "nbformat_minor": 4
}
