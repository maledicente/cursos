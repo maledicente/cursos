{
 "cells": [
  {
   "cell_type": "code",
   "execution_count": 1,
   "metadata": {},
   "outputs": [],
   "source": [
    "import numpy as np\n",
    "import pandas as pd\n",
    "import matplotlib.pyplot as plt"
   ]
  },
  {
   "cell_type": "code",
   "execution_count": 2,
   "metadata": {},
   "outputs": [],
   "source": [
    "animals=pd.read_csv('dataset_102a_100K.csv')"
   ]
  },
  {
   "cell_type": "code",
   "execution_count": 3,
   "metadata": {},
   "outputs": [
    {
     "data": {
      "text/html": [
       "<div>\n",
       "<style scoped>\n",
       "    .dataframe tbody tr th:only-of-type {\n",
       "        vertical-align: middle;\n",
       "    }\n",
       "\n",
       "    .dataframe tbody tr th {\n",
       "        vertical-align: top;\n",
       "    }\n",
       "\n",
       "    .dataframe thead th {\n",
       "        text-align: right;\n",
       "    }\n",
       "</style>\n",
       "<table border=\"1\" class=\"dataframe\">\n",
       "  <thead>\n",
       "    <tr style=\"text-align: right;\">\n",
       "      <th></th>\n",
       "      <th>id</th>\n",
       "      <th>country</th>\n",
       "      <th>city</th>\n",
       "      <th>gender</th>\n",
       "      <th>ethnicity</th>\n",
       "      <th>animal_type</th>\n",
       "      <th>animals</th>\n",
       "      <th>humans</th>\n",
       "      <th>is_required</th>\n",
       "      <th>last_updated_date</th>\n",
       "    </tr>\n",
       "  </thead>\n",
       "  <tbody>\n",
       "    <tr>\n",
       "      <th>0</th>\n",
       "      <td>1</td>\n",
       "      <td>China</td>\n",
       "      <td>Nuoxizhi</td>\n",
       "      <td>Male</td>\n",
       "      <td>Tongan</td>\n",
       "      <td>elephant</td>\n",
       "      <td>1733</td>\n",
       "      <td>9988566</td>\n",
       "      <td>0</td>\n",
       "      <td>2016-01-19</td>\n",
       "    </tr>\n",
       "    <tr>\n",
       "      <th>1</th>\n",
       "      <td>2</td>\n",
       "      <td>China</td>\n",
       "      <td>Tanbuqiao</td>\n",
       "      <td>Female</td>\n",
       "      <td>White</td>\n",
       "      <td>dog</td>\n",
       "      <td>403</td>\n",
       "      <td>4367849</td>\n",
       "      <td>0</td>\n",
       "      <td>2016-03-29</td>\n",
       "    </tr>\n",
       "    <tr>\n",
       "      <th>2</th>\n",
       "      <td>3</td>\n",
       "      <td>United States</td>\n",
       "      <td>El Paso</td>\n",
       "      <td>Male</td>\n",
       "      <td>Cuban</td>\n",
       "      <td>dog</td>\n",
       "      <td>6193</td>\n",
       "      <td>2939235</td>\n",
       "      <td>0</td>\n",
       "      <td>2016-03-20</td>\n",
       "    </tr>\n",
       "    <tr>\n",
       "      <th>3</th>\n",
       "      <td>4</td>\n",
       "      <td>China</td>\n",
       "      <td>Zhongxin</td>\n",
       "      <td>Male</td>\n",
       "      <td>Spaniard</td>\n",
       "      <td>rabbit</td>\n",
       "      <td>9041</td>\n",
       "      <td>4852207</td>\n",
       "      <td>0</td>\n",
       "      <td>2016-06-10</td>\n",
       "    </tr>\n",
       "    <tr>\n",
       "      <th>4</th>\n",
       "      <td>5</td>\n",
       "      <td>China</td>\n",
       "      <td>Bijia</td>\n",
       "      <td>Female</td>\n",
       "      <td>Colombian</td>\n",
       "      <td>cat</td>\n",
       "      <td>7505</td>\n",
       "      <td>6728496</td>\n",
       "      <td>0</td>\n",
       "      <td>2016-01-17</td>\n",
       "    </tr>\n",
       "    <tr>\n",
       "      <th>...</th>\n",
       "      <td>...</td>\n",
       "      <td>...</td>\n",
       "      <td>...</td>\n",
       "      <td>...</td>\n",
       "      <td>...</td>\n",
       "      <td>...</td>\n",
       "      <td>...</td>\n",
       "      <td>...</td>\n",
       "      <td>...</td>\n",
       "      <td>...</td>\n",
       "    </tr>\n",
       "    <tr>\n",
       "      <th>99995</th>\n",
       "      <td>99996</td>\n",
       "      <td>China</td>\n",
       "      <td>Beihe</td>\n",
       "      <td>Female</td>\n",
       "      <td>Ottawa</td>\n",
       "      <td>rabbit</td>\n",
       "      <td>846</td>\n",
       "      <td>562664</td>\n",
       "      <td>0</td>\n",
       "      <td>2016-08-07</td>\n",
       "    </tr>\n",
       "    <tr>\n",
       "      <th>99996</th>\n",
       "      <td>99997</td>\n",
       "      <td>China</td>\n",
       "      <td>Yanhu</td>\n",
       "      <td>Male</td>\n",
       "      <td>American Indian</td>\n",
       "      <td>horse</td>\n",
       "      <td>9817</td>\n",
       "      <td>9835707</td>\n",
       "      <td>0</td>\n",
       "      <td>2015-12-19</td>\n",
       "    </tr>\n",
       "    <tr>\n",
       "      <th>99997</th>\n",
       "      <td>99998</td>\n",
       "      <td>United States</td>\n",
       "      <td>Sacramento</td>\n",
       "      <td>Male</td>\n",
       "      <td>Creek</td>\n",
       "      <td>horse</td>\n",
       "      <td>3173</td>\n",
       "      <td>9945513</td>\n",
       "      <td>0</td>\n",
       "      <td>2016-05-23</td>\n",
       "    </tr>\n",
       "    <tr>\n",
       "      <th>99998</th>\n",
       "      <td>99999</td>\n",
       "      <td>Brazil</td>\n",
       "      <td>Petrolina</td>\n",
       "      <td>Female</td>\n",
       "      <td>Houma</td>\n",
       "      <td>rabbit</td>\n",
       "      <td>4436</td>\n",
       "      <td>314459</td>\n",
       "      <td>1</td>\n",
       "      <td>2016-09-17</td>\n",
       "    </tr>\n",
       "    <tr>\n",
       "      <th>99999</th>\n",
       "      <td>100000</td>\n",
       "      <td>United States</td>\n",
       "      <td>Wichita</td>\n",
       "      <td>Female</td>\n",
       "      <td>Malaysian</td>\n",
       "      <td>horse</td>\n",
       "      <td>7928</td>\n",
       "      <td>9746872</td>\n",
       "      <td>0</td>\n",
       "      <td>2016-02-28</td>\n",
       "    </tr>\n",
       "  </tbody>\n",
       "</table>\n",
       "<p>100000 rows × 10 columns</p>\n",
       "</div>"
      ],
      "text/plain": [
       "           id        country        city  gender        ethnicity animal_type  \\\n",
       "0           1          China    Nuoxizhi    Male           Tongan    elephant   \n",
       "1           2          China   Tanbuqiao  Female            White         dog   \n",
       "2           3  United States     El Paso    Male            Cuban         dog   \n",
       "3           4          China    Zhongxin    Male         Spaniard      rabbit   \n",
       "4           5          China       Bijia  Female        Colombian         cat   \n",
       "...       ...            ...         ...     ...              ...         ...   \n",
       "99995   99996          China       Beihe  Female           Ottawa      rabbit   \n",
       "99996   99997          China       Yanhu    Male  American Indian       horse   \n",
       "99997   99998  United States  Sacramento    Male            Creek       horse   \n",
       "99998   99999         Brazil   Petrolina  Female            Houma      rabbit   \n",
       "99999  100000  United States     Wichita  Female        Malaysian       horse   \n",
       "\n",
       "       animals   humans  is_required last_updated_date  \n",
       "0         1733  9988566            0        2016-01-19  \n",
       "1          403  4367849            0        2016-03-29  \n",
       "2         6193  2939235            0        2016-03-20  \n",
       "3         9041  4852207            0        2016-06-10  \n",
       "4         7505  6728496            0        2016-01-17  \n",
       "...        ...      ...          ...               ...  \n",
       "99995      846   562664            0        2016-08-07  \n",
       "99996     9817  9835707            0        2015-12-19  \n",
       "99997     3173  9945513            0        2016-05-23  \n",
       "99998     4436   314459            1        2016-09-17  \n",
       "99999     7928  9746872            0        2016-02-28  \n",
       "\n",
       "[100000 rows x 10 columns]"
      ]
     },
     "execution_count": 3,
     "metadata": {},
     "output_type": "execute_result"
    }
   ],
   "source": [
    "animals"
   ]
  },
  {
   "cell_type": "code",
   "execution_count": 4,
   "metadata": {},
   "outputs": [
    {
     "data": {
      "text/plain": [
       "array(['China', 'United States', 'Brazil', 'Canada', 'India'],\n",
       "      dtype=object)"
      ]
     },
     "execution_count": 4,
     "metadata": {},
     "output_type": "execute_result"
    }
   ],
   "source": [
    "animals['country'].unique()"
   ]
  },
  {
   "cell_type": "code",
   "execution_count": 5,
   "metadata": {},
   "outputs": [
    {
     "data": {
      "text/plain": [
       "array(['elephant', 'dog', 'rabbit', 'cat', 'horse'], dtype=object)"
      ]
     },
     "execution_count": 5,
     "metadata": {},
     "output_type": "execute_result"
    }
   ],
   "source": [
    "animals['animal_type'].unique()"
   ]
  },
  {
   "cell_type": "code",
   "execution_count": 6,
   "metadata": {},
   "outputs": [],
   "source": [
    "dogs=animals.loc[animals['animal_type']=='dog']"
   ]
  },
  {
   "cell_type": "code",
   "execution_count": 7,
   "metadata": {},
   "outputs": [],
   "source": [
    "dogs_count=dogs['animals'].count()"
   ]
  },
  {
   "cell_type": "code",
   "execution_count": 8,
   "metadata": {},
   "outputs": [
    {
     "data": {
      "text/plain": [
       "19909"
      ]
     },
     "execution_count": 8,
     "metadata": {},
     "output_type": "execute_result"
    }
   ],
   "source": [
    "dogs_count"
   ]
  },
  {
   "cell_type": "code",
   "execution_count": null,
   "metadata": {},
   "outputs": [],
   "source": []
  }
 ],
 "metadata": {
  "kernelspec": {
   "display_name": "Python 3",
   "language": "python",
   "name": "python3"
  },
  "language_info": {
   "codemirror_mode": {
    "name": "ipython",
    "version": 3
   },
   "file_extension": ".py",
   "mimetype": "text/x-python",
   "name": "python",
   "nbconvert_exporter": "python",
   "pygments_lexer": "ipython3",
   "version": "3.8.3"
  }
 },
 "nbformat": 4,
 "nbformat_minor": 4
}
