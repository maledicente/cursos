{
 "cells": [
  {
   "cell_type": "markdown",
   "metadata": {},
   "source": [
    "# Método de tendência linear de Holt"
   ]
  },
  {
   "cell_type": "markdown",
   "metadata": {},
   "source": [
    "Utilizando modelo de suavização exponencial com tendência linear de Holt para prever preço do óleo na Arabia Saudita"
   ]
  },
  {
   "cell_type": "markdown",
   "metadata": {},
   "source": [
    "* Importando bibliotecas"
   ]
  },
  {
   "cell_type": "code",
   "execution_count": 1,
   "metadata": {},
   "outputs": [],
   "source": [
    "import numpy as np\n",
    "import pandas as pd\n",
    "import matplotlib.pyplot as plt"
   ]
  },
  {
   "cell_type": "markdown",
   "metadata": {},
   "source": [
    "* Lendo arquivo Excel"
   ]
  },
  {
   "cell_type": "code",
   "execution_count": 2,
   "metadata": {},
   "outputs": [],
   "source": [
    "dados = pd.read_csv('BrentOilPrices.csv')"
   ]
  },
  {
   "cell_type": "markdown",
   "metadata": {},
   "source": [
    "* Exibindo cinco primeiras linhas"
   ]
  },
  {
   "cell_type": "code",
   "execution_count": 3,
   "metadata": {},
   "outputs": [
    {
     "data": {
      "text/html": [
       "<div>\n",
       "<style scoped>\n",
       "    .dataframe tbody tr th:only-of-type {\n",
       "        vertical-align: middle;\n",
       "    }\n",
       "\n",
       "    .dataframe tbody tr th {\n",
       "        vertical-align: top;\n",
       "    }\n",
       "\n",
       "    .dataframe thead th {\n",
       "        text-align: right;\n",
       "    }\n",
       "</style>\n",
       "<table border=\"1\" class=\"dataframe\">\n",
       "  <thead>\n",
       "    <tr style=\"text-align: right;\">\n",
       "      <th></th>\n",
       "      <th>Date</th>\n",
       "      <th>Price</th>\n",
       "    </tr>\n",
       "  </thead>\n",
       "  <tbody>\n",
       "    <tr>\n",
       "      <th>0</th>\n",
       "      <td>20-May-87</td>\n",
       "      <td>18.63</td>\n",
       "    </tr>\n",
       "    <tr>\n",
       "      <th>1</th>\n",
       "      <td>21-May-87</td>\n",
       "      <td>18.45</td>\n",
       "    </tr>\n",
       "    <tr>\n",
       "      <th>2</th>\n",
       "      <td>22-May-87</td>\n",
       "      <td>18.55</td>\n",
       "    </tr>\n",
       "    <tr>\n",
       "      <th>3</th>\n",
       "      <td>25-May-87</td>\n",
       "      <td>18.60</td>\n",
       "    </tr>\n",
       "    <tr>\n",
       "      <th>4</th>\n",
       "      <td>26-May-87</td>\n",
       "      <td>18.63</td>\n",
       "    </tr>\n",
       "  </tbody>\n",
       "</table>\n",
       "</div>"
      ],
      "text/plain": [
       "        Date  Price\n",
       "0  20-May-87  18.63\n",
       "1  21-May-87  18.45\n",
       "2  22-May-87  18.55\n",
       "3  25-May-87  18.60\n",
       "4  26-May-87  18.63"
      ]
     },
     "execution_count": 3,
     "metadata": {},
     "output_type": "execute_result"
    }
   ],
   "source": [
    "dados.head()"
   ]
  },
  {
   "cell_type": "code",
   "execution_count": 4,
   "metadata": {},
   "outputs": [],
   "source": [
    "dados['Date'] = pd.to_datetime(dados['Date'])"
   ]
  },
  {
   "cell_type": "markdown",
   "metadata": {},
   "source": [
    "* Definindo ano como índice"
   ]
  },
  {
   "cell_type": "code",
   "execution_count": 5,
   "metadata": {},
   "outputs": [],
   "source": [
    "dados = dados.set_index('Date')"
   ]
  },
  {
   "cell_type": "markdown",
   "metadata": {},
   "source": [
    "* Graficando série temporal"
   ]
  },
  {
   "cell_type": "code",
   "execution_count": 6,
   "metadata": {},
   "outputs": [
    {
     "data": {
      "image/png": "[encoded data removed]",
      "text/plain": [
       "<Figure size 432x288 with 1 Axes>"
      ]
     },
     "metadata": {
      "needs_background": "light"
     },
     "output_type": "display_data"
    }
   ],
   "source": [
    "dados.plot()\n",
    "plt.xlabel('Ano')\n",
    "plt.ylabel('Preço')\n",
    "plt.tight_layout()"
   ]
  },
  {
   "cell_type": "markdown",
   "metadata": {},
   "source": [
    "* Criando amostras de treino e teste"
   ]
  },
  {
   "cell_type": "code",
   "execution_count": 7,
   "metadata": {},
   "outputs": [],
   "source": [
    "t_treino = dados[dados.index<'2016-01-01'].index.values\n",
    "t_teste = dados[dados.index>='2016-01-01'].index.values\n",
    "X_treino = dados[dados.index<'2016-01-01'].values\n",
    "X_teste = dados[dados.index>='2016-01-01'].values"
   ]
  },
  {
   "cell_type": "markdown",
   "metadata": {},
   "source": [
    "* Aplicando modelo Exponential Smoothing"
   ]
  },
  {
   "cell_type": "code",
   "execution_count": 8,
   "metadata": {},
   "outputs": [],
   "source": [
    "from statsmodels.tsa.api import ExponentialSmoothing, Holt, SimpleExpSmoothing"
   ]
  },
  {
   "cell_type": "code",
   "execution_count": 9,
   "metadata": {},
   "outputs": [],
   "source": [
    "fit1 = Holt(X_treino).fit(smoothing_level = 0.3,smoothing_slope = 0.1)\n",
    "fit1 = fit1.forecast(len(X_teste))\n",
    "\n",
    "fit2 = Holt(X_treino).fit(smoothing_level = 0.3,smoothing_slope = 0.3)\n",
    "fit2 = fit2.forecast(len(X_teste))\n",
    "\n",
    "fit3 = Holt(X_treino).fit(smoothing_level = 0.3,smoothing_slope = 0.5)\n",
    "fit3 = fit3.forecast(len(X_teste))\n",
    "\n",
    "fit4 = Holt(X_treino).fit(smoothing_level = 0.3,smoothing_slope = 0.7)\n",
    "fit4 = fit4.forecast(len(X_teste))"
   ]
  },
  {
   "cell_type": "code",
   "execution_count": 10,
   "metadata": {},
   "outputs": [
    {
     "data": {
      "text/plain": [
       "<matplotlib.legend.Legend at 0x7f4357700c70>"
      ]
     },
     "execution_count": 10,
     "metadata": {},
     "output_type": "execute_result"
    },
    {
     "data": {
      "image/png": "[encoded data removed]",
      "text/plain": [
       "<Figure size 432x288 with 1 Axes>"
      ]
     },
     "metadata": {
      "needs_background": "light"
     },
     "output_type": "display_data"
    }
   ],
   "source": [
    "plt.plot(t_treino,X_treino, marker='o', color='black',label='Treino')\n",
    "plt.plot(t_teste,X_teste, marker='o', color='red',label='Teste')\n",
    "plt.plot(t_teste,fit1, marker='o', color='blue',label='Fit1')\n",
    "plt.plot(t_teste,fit2, marker='o', color='green',label='Fit2')\n",
    "plt.plot(t_teste,fit3, marker='o', color='orange',label='Fit3')\n",
    "plt.plot(t_teste,fit4, marker='o', color='cyan',label='Fit4')\n",
    "plt.xlabel('Ano')\n",
    "plt.ylabel('Preço')\n",
    "plt.legend()"
   ]
  },
  {
   "cell_type": "code",
   "execution_count": 11,
   "metadata": {},
   "outputs": [],
   "source": [
    "fit4a = Holt(X_treino).fit(smoothing_level = 0.1,smoothing_slope = 0.7)\n",
    "fit4a = fit4a.forecast(len(X_teste))\n",
    "\n",
    "fit4b = Holt(X_treino).fit(smoothing_level = 0.3,smoothing_slope = 0.7)\n",
    "fit4b = fit4b.forecast(len(X_teste))\n",
    "\n",
    "fit4c = Holt(X_treino).fit(smoothing_level = 0.5,smoothing_slope = 0.7)\n",
    "fit4c = fit4c.forecast(len(X_teste))\n",
    "\n",
    "fit4d = Holt(X_treino).fit(smoothing_level = 0.7,smoothing_slope = 0.7)\n",
    "fit4d = fit4d.forecast(len(X_teste))"
   ]
  },
  {
   "cell_type": "code",
   "execution_count": 12,
   "metadata": {},
   "outputs": [
    {
     "data": {
      "text/plain": [
       "<matplotlib.legend.Legend at 0x7f4356e0faf0>"
      ]
     },
     "execution_count": 12,
     "metadata": {},
     "output_type": "execute_result"
    },
    {
     "data": {
      "image/png": "[encoded data removed]",
      "text/plain": [
       "<Figure size 432x288 with 1 Axes>"
      ]
     },
     "metadata": {
      "needs_background": "light"
     },
     "output_type": "display_data"
    }
   ],
   "source": [
    "plt.plot(t_treino,X_treino, marker='o', color='black',label='Treino')\n",
    "plt.plot(t_teste,X_teste, marker='o', color='red',label='Teste')\n",
    "plt.plot(t_teste,fit4a, marker='o', color='blue',label='Fit4a')\n",
    "plt.plot(t_teste,fit4b, marker='o', color='green',label='Fit4b')\n",
    "plt.plot(t_teste,fit4c, marker='o', color='orange',label='Fit4c')\n",
    "plt.plot(t_teste,fit4d, marker='o', color='cyan',label='Fit4d')\n",
    "plt.xlabel('Ano')\n",
    "plt.ylabel('Preço')\n",
    "plt.legend()"
   ]
  },
  {
   "cell_type": "markdown",
   "metadata": {},
   "source": [
    "* Calculando erros"
   ]
  },
  {
   "cell_type": "code",
   "execution_count": 13,
   "metadata": {},
   "outputs": [],
   "source": [
    "from sklearn.metrics import mean_squared_error"
   ]
  },
  {
   "cell_type": "code",
   "execution_count": 14,
   "metadata": {},
   "outputs": [],
   "source": [
    "MSE_fit4a = mean_squared_error(X_teste,fit4a)\n",
    "MSE_fit4b = mean_squared_error(X_teste,fit4b)\n",
    "MSE_fit4c = mean_squared_error(X_teste,fit4c)\n",
    "MSE_fit4d = mean_squared_error(X_teste,fit4d)"
   ]
  },
  {
   "cell_type": "code",
   "execution_count": 15,
   "metadata": {},
   "outputs": [],
   "source": [
    "RMSE_fit4a = np.sqrt(MSE_fit4a)\n",
    "RMSE_fit4b = np.sqrt(MSE_fit4b)\n",
    "RMSE_fit4c = np.sqrt(MSE_fit4c)\n",
    "RMSE_fit4d = np.sqrt(MSE_fit4d)"
   ]
  },
  {
   "cell_type": "code",
   "execution_count": 16,
   "metadata": {},
   "outputs": [
    {
     "name": "stdout",
     "output_type": "stream",
     "text": [
      "RMSE (SL=0.1) = 351.56\n",
      "RMSE (SL=0.3) = 14.36\n",
      "RMSE (SL=0.5) = 140.60\n",
      "RMSE (SL=0.7) = 92.48\n"
     ]
    }
   ],
   "source": [
    "print(\"RMSE (SL=0.1) = {:0.2f}\".format(RMSE_fit4a))\n",
    "print(\"RMSE (SL=0.3) = {:0.2f}\".format(RMSE_fit4b))\n",
    "print(\"RMSE (SL=0.5) = {:0.2f}\".format(RMSE_fit4c))\n",
    "print(\"RMSE (SL=0.7) = {:0.2f}\".format(RMSE_fit4d))"
   ]
  },
  {
   "cell_type": "code",
   "execution_count": 17,
   "metadata": {},
   "outputs": [
    {
     "name": "stdout",
     "output_type": "stream",
     "text": [
      "SS= 0.1, SL=0.5, RMSE=79.20720260215218\n",
      "SS= 0.1, SL=0.5, RMSE=92.69164963577683\n",
      "SS= 0.1, SL=0.5, RMSE=105.86669640487075\n",
      "SS= 0.1, SL=0.5, RMSE=118.72840494827123\n",
      "SS= 0.1, SL=0.5, RMSE=131.30303615185883\n",
      "SS= 0.1, SL=0.5, RMSE=143.64088368178363\n",
      "SS= 0.1, SL=0.5, RMSE=155.8108004187976\n",
      "SS= 0.1, SL=0.5, RMSE=167.8948806202646\n",
      "SS= 0.1, SL=0.5, RMSE=179.9832565930797\n",
      "SS= 0.1, SL=0.5, RMSE=192.16912793106164\n",
      "SS= 0.1, SL=0.5, RMSE=204.544174529566\n",
      "SS= 0.1, SL=0.5, RMSE=217.19448756376352\n",
      "SS= 0.1, SL=0.5, RMSE=230.19711627522844\n",
      "SS= 0.1, SL=0.5, RMSE=243.61728630079807\n",
      "SS= 0.1, SL=0.5, RMSE=257.50630376275967\n",
      "SS= 0.1, SL=0.5, RMSE=271.9001218351044\n",
      "SS= 0.1, SL=0.5, RMSE=286.81851527504546\n",
      "SS= 0.1, SL=0.5, RMSE=302.2647851822253\n",
      "SS= 0.1, SL=0.5, RMSE=318.2259022096047\n",
      "SS= 0.1, SL=0.5, RMSE=334.6729920739265\n",
      "SS= 0.1, SL=0.5, RMSE=351.56207209562456\n",
      "SS= 0.1, SL=0.5, RMSE=368.83496030212683\n",
      "SS= 0.1, SL=0.5, RMSE=386.4202971608141\n",
      "SS= 0.1, SL=0.5, RMSE=404.23464141236155\n",
      "SS= 0.1, SL=0.5, RMSE=422.1836225409107\n",
      "SS= 0.1, SL=0.5, RMSE=440.1631500056191\n",
      "SS= 0.1, SL=0.5, RMSE=458.0606908930536\n",
      "SS= 0.1, SL=0.5, RMSE=475.75663160093313\n",
      "SS= 0.1, SL=0.5, RMSE=493.12573538481473\n",
      "SS= 0.1, SL=0.5, RMSE=510.0386974106884\n",
      "SS= 0.1, SL=0.5, RMSE=526.3637849117507\n",
      "SS= 0.1, SL=0.5, RMSE=541.9685353961083\n",
      "SS= 0.1, SL=0.5, RMSE=556.7214738432898\n",
      "SS= 0.1, SL=0.5, RMSE=570.4938029976546\n",
      "SS= 0.1, SL=0.5, RMSE=583.1610205239349\n",
      "SS= 0.1, SL=0.5, RMSE=594.604422796131\n",
      "SS= 0.1, SL=0.5, RMSE=604.7124659937117\n",
      "SS= 0.1, SL=0.5, RMSE=613.3819686332467\n",
      "SS= 0.1, SL=0.5, RMSE=620.519153017071\n",
      "SS= 0.1, SL=0.5, RMSE=626.0405339613598\n",
      "SS= 0.1, SL=0.5, RMSE=193.50399872814916\n",
      "SS= 0.1, SL=0.5, RMSE=189.44738133124633\n",
      "SS= 0.1, SL=0.5, RMSE=184.4829351348172\n",
      "SS= 0.1, SL=0.5, RMSE=178.689337612452\n",
      "SS= 0.1, SL=0.5, RMSE=172.15340415376048\n",
      "SS= 0.1, SL=0.5, RMSE=164.96837063108387\n",
      "SS= 0.1, SL=0.5, RMSE=157.2321191566791\n",
      "SS= 0.1, SL=0.5, RMSE=149.04540485505424\n",
      "SS= 0.1, SL=0.5, RMSE=140.5101358557637\n",
      "SS= 0.1, SL=0.5, RMSE=131.7277515712857\n",
      "SS= 0.1, SL=0.5, RMSE=122.7977362379652\n",
      "SS= 0.1, SL=0.5, RMSE=113.8162962223587\n",
      "SS= 0.1, SL=0.5, RMSE=104.87522123122301\n",
      "SS= 0.1, SL=0.5, RMSE=96.06094171678724\n",
      "SS= 0.1, SL=0.5, RMSE=87.45378769693754\n",
      "SS= 0.2, SL=0.65, RMSE=79.12744794160709\n",
      "SS= 0.2, SL=0.66, RMSE=71.14862267014232\n",
      "SS= 0.2, SL=0.67, RMSE=63.57685659729525\n",
      "SS= 0.2, SL=0.68, RMSE=56.46453032963143\n",
      "SS= 0.2, SL=0.69, RMSE=49.85697294860233\n",
      "SS= 0.2, SL=0.7, RMSE=43.792630644614945\n",
      "SS= 0.2, SL=0.71, RMSE=38.30317596224028\n",
      "SS= 0.2, SL=0.72, RMSE=33.41335986805645\n",
      "SS= 0.2, SL=0.73, RMSE=29.1402977893123\n",
      "SS= 0.2, SL=0.74, RMSE=25.491793419817412\n",
      "SS= 0.2, SL=0.75, RMSE=22.46340346167691\n",
      "SS= 0.2, SL=0.76, RMSE=20.034524304390086\n",
      "SS= 0.2, SL=0.77, RMSE=18.165014139974733\n",
      "SS= 0.2, SL=0.78, RMSE=16.795157455599156\n",
      "SS= 0.2, SL=0.79, RMSE=15.851480444414513\n",
      "SS= 0.2, SL=0.8, RMSE=15.257973626792177\n",
      "SS= 0.2, SL=0.81, RMSE=14.94860753252919\n",
      "SS= 0.2, SL=0.82, RMSE=14.876110193880482\n",
      "SS= 0.2, SL=0.82, RMSE=15.014384003667246\n",
      "SS= 0.2, SL=0.82, RMSE=15.355072798574627\n",
      "SS= 0.2, SL=0.82, RMSE=15.900584727924047\n",
      "SS= 0.2, SL=0.82, RMSE=16.6562672293711\n",
      "SS= 0.2, SL=0.82, RMSE=17.623997117764688\n",
      "SS= 0.2, SL=0.82, RMSE=18.79849696891194\n",
      "SS= 0.2, SL=0.82, RMSE=20.166508091225495\n",
      "SS= 0.2, SL=0.82, RMSE=48.936742652602\n",
      "SS= 0.2, SL=0.82, RMSE=46.17553490167428\n",
      "SS= 0.2, SL=0.82, RMSE=43.5234624325354\n",
      "SS= 0.2, SL=0.82, RMSE=40.993186495239655\n",
      "SS= 0.2, SL=0.82, RMSE=38.592632763503715\n",
      "SS= 0.2, SL=0.82, RMSE=36.325457390560956\n",
      "SS= 0.2, SL=0.82, RMSE=34.19156074336036\n",
      "SS= 0.2, SL=0.82, RMSE=32.18763475390905\n",
      "SS= 0.2, SL=0.82, RMSE=30.30773220230697\n",
      "SS= 0.2, SL=0.82, RMSE=28.543849132553962\n",
      "SS= 0.2, SL=0.82, RMSE=26.88651522726246\n",
      "SS= 0.2, SL=0.82, RMSE=25.32539165906676\n",
      "SS= 0.2, SL=0.82, RMSE=23.84988211399791\n",
      "SS= 0.2, SL=0.82, RMSE=22.44977085287813\n",
      "SS= 0.2, SL=0.82, RMSE=21.115912421325028\n",
      "SS= 0.2, SL=0.82, RMSE=19.841011474150193\n",
      "SS= 0.2, SL=0.82, RMSE=18.620548160601157\n",
      "SS= 0.2, SL=0.82, RMSE=17.453922637065975\n",
      "SS= 0.2, SL=0.82, RMSE=16.345903641525947\n",
      "SS= 0.2, SL=0.82, RMSE=15.308447903726375\n",
      "SS= 0.3, SL=0.7, RMSE=14.362854778615366\n",
      "SS= 0.3, SL=0.71, RMSE=13.541927340131148\n",
      "SS= 0.3, SL=0.72, RMSE=12.891191189339896\n",
      "SS= 0.3, SL=0.73, RMSE=12.467316673948801\n",
      "SS= 0.3, SL=0.74, RMSE=12.331460689846441\n",
      "SS= 0.3, SL=0.74, RMSE=12.537060443024059\n",
      "SS= 0.3, SL=0.74, RMSE=13.116389172321718\n",
      "SS= 0.3, SL=0.74, RMSE=14.07368723886916\n",
      "SS= 0.3, SL=0.74, RMSE=15.388927557254231\n",
      "SS= 0.3, SL=0.74, RMSE=17.028275132425605\n",
      "SS= 0.3, SL=0.74, RMSE=18.954279787485714\n",
      "SS= 0.3, SL=0.74, RMSE=21.132097266498786\n",
      "SS= 0.3, SL=0.74, RMSE=23.531885355916067\n",
      "SS= 0.3, SL=0.74, RMSE=26.128941168897057\n",
      "SS= 0.3, SL=0.74, RMSE=28.90291006394622\n",
      "SS= 0.3, SL=0.74, RMSE=31.83679979110774\n",
      "SS= 0.3, SL=0.74, RMSE=34.91610399828265\n",
      "SS= 0.3, SL=0.74, RMSE=38.128119403984286\n",
      "SS= 0.3, SL=0.74, RMSE=41.46145072697481\n",
      "SS= 0.3, SL=0.74, RMSE=44.9056694017405\n",
      "SS= 0.3, SL=0.74, RMSE=12.920444687421824\n",
      "SS= 0.3, SL=0.74, RMSE=13.99482576990471\n",
      "SS= 0.3, SL=0.74, RMSE=15.548501158553616\n",
      "SS= 0.3, SL=0.74, RMSE=17.488629764369943\n",
      "SS= 0.3, SL=0.74, RMSE=19.73406729994509\n",
      "SS= 0.3, SL=0.74, RMSE=22.223308564531393\n",
      "SS= 0.3, SL=0.74, RMSE=24.912737963033837\n",
      "SS= 0.3, SL=0.74, RMSE=27.772233253614456\n",
      "SS= 0.3, SL=0.74, RMSE=30.781084518364885\n",
      "SS= 0.3, SL=0.74, RMSE=33.924930526417995\n",
      "SS= 0.3, SL=0.74, RMSE=37.19363101637983\n",
      "SS= 0.3, SL=0.74, RMSE=40.57983222336745\n",
      "SS= 0.3, SL=0.74, RMSE=44.07800934898099\n",
      "SS= 0.3, SL=0.74, RMSE=47.68382924255098\n",
      "SS= 0.3, SL=0.74, RMSE=51.39372738809007\n",
      "SS= 0.3, SL=0.74, RMSE=55.20462920048669\n",
      "SS= 0.3, SL=0.74, RMSE=59.113769386501914\n",
      "SS= 0.3, SL=0.74, RMSE=63.118578487898674\n",
      "SS= 0.3, SL=0.74, RMSE=67.21661563599814\n",
      "SS= 0.3, SL=0.74, RMSE=71.40553299718002\n",
      "SS= 0.3, SL=0.74, RMSE=75.6830616528478\n",
      "SS= 0.3, SL=0.74, RMSE=80.0470115332896\n",
      "SS= 0.3, SL=0.74, RMSE=84.49528001262561\n",
      "SS= 0.3, SL=0.74, RMSE=89.02586518259616\n",
      "SS= 0.3, SL=0.74, RMSE=93.63688085241535\n",
      "SS= 0.3, SL=0.74, RMSE=98.32657109414397\n",
      "SS= 0.3, SL=0.74, RMSE=103.09332274734112\n",
      "SS= 0.3, SL=0.74, RMSE=107.93567476368452\n",
      "SS= 0.3, SL=0.74, RMSE=112.85232364594239\n",
      "SS= 0.3, SL=0.74, RMSE=117.84212453697197\n",
      "SS= 0.3, SL=0.74, RMSE=122.90408776006387\n",
      "SS= 0.3, SL=0.74, RMSE=128.03737081030735\n",
      "SS= 0.3, SL=0.74, RMSE=133.24126595740267\n",
      "SS= 0.3, SL=0.74, RMSE=138.51518374782273\n",
      "SS= 0.3, SL=0.74, RMSE=143.85863279345554\n",
      "SS= 0.3, SL=0.74, RMSE=149.27119630915556\n",
      "SS= 0.3, SL=0.74, RMSE=154.75250591526984\n",
      "SS= 0.3, SL=0.74, RMSE=160.30221325704704\n",
      "SS= 0.3, SL=0.74, RMSE=165.91996001249822\n",
      "SS= 0.3, SL=0.74, RMSE=171.60534686700413\n",
      "SS= 0.3, SL=0.74, RMSE=50.13400797672836\n",
      "SS= 0.3, SL=0.74, RMSE=53.85165188652447\n",
      "SS= 0.3, SL=0.74, RMSE=57.67908685470488\n",
      "SS= 0.3, SL=0.74, RMSE=61.61115922190468\n",
      "SS= 0.3, SL=0.74, RMSE=65.64316235629093\n",
      "SS= 0.3, SL=0.74, RMSE=69.77073305515577\n",
      "SS= 0.3, SL=0.74, RMSE=73.98976882127984\n",
      "SS= 0.3, SL=0.74, RMSE=78.2963622436029\n",
      "SS= 0.3, SL=0.74, RMSE=82.68674913117343\n",
      "SS= 0.3, SL=0.74, RMSE=87.15726750326256\n",
      "SS= 0.3, SL=0.74, RMSE=91.70432498222779\n",
      "SS= 0.3, SL=0.74, RMSE=96.32437254930493\n",
      "SS= 0.3, SL=0.74, RMSE=101.0138829996149\n",
      "SS= 0.3, SL=0.74, RMSE=105.76933276904485\n",
      "SS= 0.3, SL=0.74, RMSE=110.58718610270829\n",
      "SS= 0.3, SL=0.74, RMSE=115.46388079365835\n",
      "SS= 0.3, SL=0.74, RMSE=120.3958149434883\n",
      "SS= 0.3, SL=0.74, RMSE=125.37933438531287\n",
      "SS= 0.3, SL=0.74, RMSE=130.41072056619944\n",
      "SS= 0.3, SL=0.74, RMSE=135.48617881349267\n",
      "SS= 0.3, SL=0.74, RMSE=140.60182700879295\n",
      "SS= 0.3, SL=0.74, RMSE=145.75368476837835\n",
      "SS= 0.3, SL=0.74, RMSE=150.93766328088103\n",
      "SS= 0.3, SL=0.74, RMSE=156.14955598562892\n",
      "SS= 0.3, SL=0.74, RMSE=161.385030289926\n",
      "SS= 0.3, SL=0.74, RMSE=166.63962052389553\n",
      "SS= 0.3, SL=0.74, RMSE=171.9087223194959\n",
      "SS= 0.3, SL=0.74, RMSE=177.18758857811414\n",
      "SS= 0.3, SL=0.74, RMSE=182.47132716159553\n",
      "SS= 0.3, SL=0.74, RMSE=187.75490040622802\n",
      "SS= 0.3, SL=0.74, RMSE=193.0331265202482\n",
      "SS= 0.3, SL=0.74, RMSE=198.300682884825\n",
      "SS= 0.3, SL=0.74, RMSE=203.55211123742438\n",
      "SS= 0.3, SL=0.74, RMSE=208.7818246767603\n",
      "SS= 0.3, SL=0.74, RMSE=213.98411639119126\n",
      "SS= 0.3, SL=0.74, RMSE=219.15316997838653\n",
      "SS= 0.3, SL=0.74, RMSE=224.28307119458577\n",
      "SS= 0.3, SL=0.74, RMSE=229.36782094670056\n",
      "SS= 0.3, SL=0.74, RMSE=234.40134932123163\n",
      "SS= 0.3, SL=0.74, RMSE=239.37753042984713\n"
     ]
    },
    {
     "name": "stdout",
     "output_type": "stream",
     "text": [
      "SS= 0.3, SL=0.74, RMSE=72.87569081907961\n",
      "SS= 0.3, SL=0.74, RMSE=76.55829269307618\n",
      "SS= 0.3, SL=0.74, RMSE=80.29245379306876\n",
      "SS= 0.3, SL=0.74, RMSE=84.07060947987546\n",
      "SS= 0.3, SL=0.74, RMSE=87.88536093146053\n",
      "SS= 0.3, SL=0.74, RMSE=91.72943976054918\n",
      "SS= 0.3, SL=0.74, RMSE=95.59567770634585\n",
      "SS= 0.3, SL=0.74, RMSE=99.47698097888035\n",
      "SS= 0.3, SL=0.74, RMSE=103.36630882791697\n",
      "SS= 0.3, SL=0.74, RMSE=107.25665592924044\n",
      "SS= 0.3, SL=0.74, RMSE=111.1410382159093\n",
      "SS= 0.3, SL=0.74, RMSE=115.0124818218739\n",
      "SS= 0.3, SL=0.74, RMSE=118.86401484482877\n",
      "SS= 0.3, SL=0.74, RMSE=122.68866167044268\n",
      "SS= 0.3, SL=0.74, RMSE=126.4794396298465\n",
      "SS= 0.3, SL=0.74, RMSE=130.22935778576937\n",
      "SS= 0.3, SL=0.74, RMSE=133.93141766007142\n",
      "SS= 0.3, SL=0.74, RMSE=137.57861572759404\n",
      "SS= 0.3, SL=0.74, RMSE=141.16394750881815\n",
      "SS= 0.3, SL=0.74, RMSE=144.68041309824895\n",
      "SS= 0.3, SL=0.74, RMSE=148.12102396760739\n",
      "SS= 0.3, SL=0.74, RMSE=151.47881088366125\n",
      "SS= 0.3, SL=0.74, RMSE=154.74683278144403\n",
      "SS= 0.3, SL=0.74, RMSE=157.91818643435906\n",
      "SS= 0.3, SL=0.74, RMSE=160.9860167650172\n",
      "SS= 0.3, SL=0.74, RMSE=163.9435276439923\n",
      "SS= 0.3, SL=0.74, RMSE=166.783993028968\n",
      "SS= 0.3, SL=0.74, RMSE=169.50076830373487\n",
      "SS= 0.3, SL=0.74, RMSE=172.08730168511903\n",
      "SS= 0.3, SL=0.74, RMSE=174.53714557639205\n",
      "SS= 0.3, SL=0.74, RMSE=176.84396775723482\n",
      "SS= 0.3, SL=0.74, RMSE=179.00156231311976\n",
      "SS= 0.3, SL=0.74, RMSE=181.00386022056367\n",
      "SS= 0.3, SL=0.74, RMSE=182.84493951842566\n",
      "SS= 0.3, SL=0.74, RMSE=184.5190350093926\n",
      "SS= 0.3, SL=0.74, RMSE=186.0205474493369\n",
      "SS= 0.3, SL=0.74, RMSE=187.34405219525078\n",
      "SS= 0.3, SL=0.74, RMSE=188.4843072944878\n",
      "SS= 0.3, SL=0.74, RMSE=189.4362610089967\n",
      "SS= 0.3, SL=0.74, RMSE=190.19505877793486\n",
      "SS= 0.3, SL=0.74, RMSE=64.87226695045106\n"
     ]
    },
    {
     "ename": "KeyboardInterrupt",
     "evalue": "",
     "output_type": "error",
     "traceback": [
      "\u001b[0;31m---------------------------------------------------------------------------\u001b[0m",
      "\u001b[0;31mKeyboardInterrupt\u001b[0m                         Traceback (most recent call last)",
      "\u001b[0;32m<ipython-input-17-7bf3a141e307>\u001b[0m in \u001b[0;36m<module>\u001b[0;34m\u001b[0m\n\u001b[1;32m      6\u001b[0m         \u001b[0mind1\u001b[0m \u001b[0;34m=\u001b[0m \u001b[0mi\u001b[0m\u001b[0;34m/\u001b[0m\u001b[0;36m10\u001b[0m\u001b[0;34m\u001b[0m\u001b[0;34m\u001b[0m\u001b[0m\n\u001b[1;32m      7\u001b[0m         \u001b[0mind2\u001b[0m \u001b[0;34m=\u001b[0m \u001b[0mj\u001b[0m\u001b[0;34m/\u001b[0m\u001b[0;36m100\u001b[0m\u001b[0;34m\u001b[0m\u001b[0;34m\u001b[0m\u001b[0m\n\u001b[0;32m----> 8\u001b[0;31m         \u001b[0mfit_final\u001b[0m \u001b[0;34m=\u001b[0m \u001b[0mHolt\u001b[0m\u001b[0;34m(\u001b[0m\u001b[0mX_treino\u001b[0m\u001b[0;34m)\u001b[0m\u001b[0;34m.\u001b[0m\u001b[0mfit\u001b[0m\u001b[0;34m(\u001b[0m\u001b[0msmoothing_level\u001b[0m\u001b[0;34m=\u001b[0m\u001b[0mind1\u001b[0m\u001b[0;34m,\u001b[0m\u001b[0msmoothing_slope\u001b[0m\u001b[0;34m=\u001b[0m\u001b[0mind2\u001b[0m\u001b[0;34m)\u001b[0m\u001b[0;34m\u001b[0m\u001b[0;34m\u001b[0m\u001b[0m\n\u001b[0m\u001b[1;32m      9\u001b[0m         \u001b[0mfit_final\u001b[0m \u001b[0;34m=\u001b[0m \u001b[0mfit_final\u001b[0m\u001b[0;34m.\u001b[0m\u001b[0mforecast\u001b[0m\u001b[0;34m(\u001b[0m\u001b[0mlen\u001b[0m\u001b[0;34m(\u001b[0m\u001b[0mX_teste\u001b[0m\u001b[0;34m)\u001b[0m\u001b[0;34m)\u001b[0m\u001b[0;34m\u001b[0m\u001b[0;34m\u001b[0m\u001b[0m\n\u001b[1;32m     10\u001b[0m         \u001b[0mMSE\u001b[0m \u001b[0;34m=\u001b[0m \u001b[0mmean_squared_error\u001b[0m\u001b[0;34m(\u001b[0m\u001b[0mX_teste\u001b[0m\u001b[0;34m,\u001b[0m\u001b[0mfit_final\u001b[0m\u001b[0;34m)\u001b[0m\u001b[0;34m\u001b[0m\u001b[0;34m\u001b[0m\u001b[0m\n",
      "\u001b[0;32m~/anaconda3/lib/python3.8/site-packages/statsmodels/tsa/holtwinters.py\u001b[0m in \u001b[0;36mfit\u001b[0;34m(self, smoothing_level, smoothing_slope, damping_slope, optimized, start_params, initial_level, initial_slope, use_brute)\u001b[0m\n\u001b[1;32m   1164\u001b[0m             \u001b[0;32mand\u001b[0m \u001b[0mpractice\u001b[0m\u001b[0;34m.\u001b[0m \u001b[0mOTexts\u001b[0m\u001b[0;34m,\u001b[0m \u001b[0;36m2014.\u001b[0m\u001b[0;34m\u001b[0m\u001b[0;34m\u001b[0m\u001b[0m\n\u001b[1;32m   1165\u001b[0m         \"\"\"\n\u001b[0;32m-> 1166\u001b[0;31m         return super(Holt, self).fit(smoothing_level=smoothing_level,\n\u001b[0m\u001b[1;32m   1167\u001b[0m                                      \u001b[0msmoothing_slope\u001b[0m\u001b[0;34m=\u001b[0m\u001b[0msmoothing_slope\u001b[0m\u001b[0;34m,\u001b[0m \u001b[0mdamping_slope\u001b[0m\u001b[0;34m=\u001b[0m\u001b[0mdamping_slope\u001b[0m\u001b[0;34m,\u001b[0m\u001b[0;34m\u001b[0m\u001b[0;34m\u001b[0m\u001b[0m\n\u001b[1;32m   1168\u001b[0m                                      \u001b[0moptimized\u001b[0m\u001b[0;34m=\u001b[0m\u001b[0moptimized\u001b[0m\u001b[0;34m,\u001b[0m \u001b[0mstart_params\u001b[0m\u001b[0;34m=\u001b[0m\u001b[0mstart_params\u001b[0m\u001b[0;34m,\u001b[0m\u001b[0;34m\u001b[0m\u001b[0;34m\u001b[0m\u001b[0m\n",
      "\u001b[0;32m~/anaconda3/lib/python3.8/site-packages/statsmodels/tsa/holtwinters.py\u001b[0m in \u001b[0;36mfit\u001b[0;34m(self, smoothing_level, smoothing_slope, smoothing_seasonal, damping_slope, optimized, use_boxcox, remove_bias, use_basinhopping, start_params, initial_level, initial_slope, use_brute)\u001b[0m\n\u001b[1;32m    755\u001b[0m             \u001b[0ms0\u001b[0m \u001b[0;34m=\u001b[0m \u001b[0mp\u001b[0m\u001b[0;34m[\u001b[0m\u001b[0;36m6\u001b[0m\u001b[0;34m:\u001b[0m\u001b[0;34m]\u001b[0m\u001b[0;34m\u001b[0m\u001b[0;34m\u001b[0m\u001b[0m\n\u001b[1;32m    756\u001b[0m \u001b[0;34m\u001b[0m\u001b[0m\n\u001b[0;32m--> 757\u001b[0;31m         hwfit = self._predict(h=0, smoothing_level=alpha, smoothing_slope=beta,\n\u001b[0m\u001b[1;32m    758\u001b[0m                               \u001b[0msmoothing_seasonal\u001b[0m\u001b[0;34m=\u001b[0m\u001b[0mgamma\u001b[0m\u001b[0;34m,\u001b[0m \u001b[0mdamping_slope\u001b[0m\u001b[0;34m=\u001b[0m\u001b[0mphi\u001b[0m\u001b[0;34m,\u001b[0m\u001b[0;34m\u001b[0m\u001b[0;34m\u001b[0m\u001b[0m\n\u001b[1;32m    759\u001b[0m                               \u001b[0minitial_level\u001b[0m\u001b[0;34m=\u001b[0m\u001b[0ml0\u001b[0m\u001b[0;34m,\u001b[0m \u001b[0minitial_slope\u001b[0m\u001b[0;34m=\u001b[0m\u001b[0mb0\u001b[0m\u001b[0;34m,\u001b[0m \u001b[0minitial_seasons\u001b[0m\u001b[0;34m=\u001b[0m\u001b[0ms0\u001b[0m\u001b[0;34m,\u001b[0m\u001b[0;34m\u001b[0m\u001b[0;34m\u001b[0m\u001b[0m\n",
      "\u001b[0;32m~/anaconda3/lib/python3.8/site-packages/statsmodels/tsa/holtwinters.py\u001b[0m in \u001b[0;36m_predict\u001b[0;34m(self, h, smoothing_level, smoothing_slope, smoothing_seasonal, initial_level, initial_slope, damping_slope, initial_seasons, use_boxcox, lamda, remove_bias, is_optimized)\u001b[0m\n\u001b[1;32m    932\u001b[0m                        \u001b[0;34m(\u001b[0m\u001b[0malphac\u001b[0m \u001b[0;34m*\u001b[0m \u001b[0mtrended\u001b[0m\u001b[0;34m(\u001b[0m\u001b[0mlvls\u001b[0m\u001b[0;34m[\u001b[0m\u001b[0mi\u001b[0m \u001b[0;34m-\u001b[0m \u001b[0;36m1\u001b[0m\u001b[0;34m]\u001b[0m\u001b[0;34m,\u001b[0m \u001b[0mdampen\u001b[0m\u001b[0;34m(\u001b[0m\u001b[0mb\u001b[0m\u001b[0;34m[\u001b[0m\u001b[0mi\u001b[0m \u001b[0;34m-\u001b[0m \u001b[0;36m1\u001b[0m\u001b[0;34m]\u001b[0m\u001b[0;34m,\u001b[0m \u001b[0mphi\u001b[0m\u001b[0;34m)\u001b[0m\u001b[0;34m)\u001b[0m\u001b[0;34m)\u001b[0m\u001b[0;34m\u001b[0m\u001b[0;34m\u001b[0m\u001b[0m\n\u001b[1;32m    933\u001b[0m                 \u001b[0;32mif\u001b[0m \u001b[0mtrending\u001b[0m\u001b[0;34m:\u001b[0m\u001b[0;34m\u001b[0m\u001b[0;34m\u001b[0m\u001b[0m\n\u001b[0;32m--> 934\u001b[0;31m                     \u001b[0mb\u001b[0m\u001b[0;34m[\u001b[0m\u001b[0mi\u001b[0m\u001b[0;34m]\u001b[0m \u001b[0;34m=\u001b[0m \u001b[0;34m(\u001b[0m\u001b[0mbeta\u001b[0m \u001b[0;34m*\u001b[0m \u001b[0mdetrend\u001b[0m\u001b[0;34m(\u001b[0m\u001b[0mlvls\u001b[0m\u001b[0;34m[\u001b[0m\u001b[0mi\u001b[0m\u001b[0;34m]\u001b[0m\u001b[0;34m,\u001b[0m \u001b[0mlvls\u001b[0m\u001b[0;34m[\u001b[0m\u001b[0mi\u001b[0m \u001b[0;34m-\u001b[0m \u001b[0;36m1\u001b[0m\u001b[0;34m]\u001b[0m\u001b[0;34m)\u001b[0m\u001b[0;34m)\u001b[0m \u001b[0;34m+\u001b[0m\u001b[0;31m \u001b[0m\u001b[0;31m\\\u001b[0m\u001b[0;34m\u001b[0m\u001b[0;34m\u001b[0m\u001b[0m\n\u001b[0m\u001b[1;32m    935\u001b[0m                            \u001b[0;34m(\u001b[0m\u001b[0mbetac\u001b[0m \u001b[0;34m*\u001b[0m \u001b[0mdampen\u001b[0m\u001b[0;34m(\u001b[0m\u001b[0mb\u001b[0m\u001b[0;34m[\u001b[0m\u001b[0mi\u001b[0m \u001b[0;34m-\u001b[0m \u001b[0;36m1\u001b[0m\u001b[0;34m]\u001b[0m\u001b[0;34m,\u001b[0m \u001b[0mphi\u001b[0m\u001b[0;34m)\u001b[0m\u001b[0;34m)\u001b[0m\u001b[0;34m\u001b[0m\u001b[0;34m\u001b[0m\u001b[0m\n\u001b[1;32m    936\u001b[0m             \u001b[0mslope\u001b[0m \u001b[0;34m=\u001b[0m \u001b[0mb\u001b[0m\u001b[0;34m[\u001b[0m\u001b[0;36m1\u001b[0m\u001b[0;34m:\u001b[0m\u001b[0mnobs\u001b[0m \u001b[0;34m+\u001b[0m \u001b[0;36m1\u001b[0m\u001b[0;34m]\u001b[0m\u001b[0;34m.\u001b[0m\u001b[0mcopy\u001b[0m\u001b[0;34m(\u001b[0m\u001b[0;34m)\u001b[0m\u001b[0;34m\u001b[0m\u001b[0;34m\u001b[0m\u001b[0m\n",
      "\u001b[0;31mKeyboardInterrupt\u001b[0m: "
     ]
    }
   ],
   "source": [
    "best = 1e6\n",
    "i_best = 0\n",
    "j_best = 0\n",
    "for i in range(1,10):\n",
    "    for j in range(50,90):\n",
    "        ind1 = i/10\n",
    "        ind2 = j/100\n",
    "        fit_final = Holt(X_treino).fit(smoothing_level=ind1,smoothing_slope=ind2)\n",
    "        fit_final = fit_final.forecast(len(X_teste))\n",
    "        MSE = mean_squared_error(X_teste,fit_final)\n",
    "        RMSE = np.sqrt(MSE)\n",
    "        if(RMSE<best):\n",
    "            best = RMSE\n",
    "            i_best = ind1\n",
    "            j_best = ind2\n",
    "        print(\"SS= {}, SL={}, RMSE={}\".format(i_best,j_best,RMSE))\n",
    "\n",
    "print(\"Melhor smoothing_level = {}\".format(i_best/10.0))\n",
    "print(\"Melhor smoothing_slope = {}\".format(j_best/100))"
   ]
  },
  {
   "cell_type": "markdown",
   "metadata": {},
   "source": [
    "# Melhor ajuste"
   ]
  },
  {
   "cell_type": "code",
   "execution_count": 18,
   "metadata": {},
   "outputs": [],
   "source": [
    "fit_best = Holt(X_treino).fit(smoothing_level = 0.3,smoothing_slope = 0.74)\n",
    "fit_best = fit_best.forecast(len(X_teste))"
   ]
  },
  {
   "cell_type": "code",
   "execution_count": 19,
   "metadata": {},
   "outputs": [
    {
     "data": {
      "text/plain": [
       "<matplotlib.legend.Legend at 0x7f4356970310>"
      ]
     },
     "execution_count": 19,
     "metadata": {},
     "output_type": "execute_result"
    },
    {
     "data": {
      "image/png": "[encoded data removed]",
      "text/plain": [
       "<Figure size 432x288 with 1 Axes>"
      ]
     },
     "metadata": {
      "needs_background": "light"
     },
     "output_type": "display_data"
    }
   ],
   "source": [
    "plt.plot(t_treino,X_treino, marker='o', color='black',label='Treino')\n",
    "plt.plot(t_teste,X_teste, marker='o', color='red',label='Teste')\n",
    "plt.plot(t_teste,fit_best, marker='o', color='blue',label='Best Fit')\n",
    "plt.xlabel('Ano')\n",
    "plt.ylabel('Preço')\n",
    "plt.legend()"
   ]
  },
  {
   "cell_type": "code",
   "execution_count": null,
   "metadata": {},
   "outputs": [],
   "source": []
  }
 ],
 "metadata": {
  "kernelspec": {
   "display_name": "Python 3",
   "language": "python",
   "name": "python3"
  },
  "language_info": {
   "codemirror_mode": {
    "name": "ipython",
    "version": 3
   },
   "file_extension": ".py",
   "mimetype": "text/x-python",
   "name": "python",
   "nbconvert_exporter": "python",
   "pygments_lexer": "ipython3",
   "version": "3.8.3"
  }
 },
 "nbformat": 4,
 "nbformat_minor": 4
}
