{
 "cells": [
  {
   "cell_type": "markdown",
   "metadata": {},
   "source": [
    "# NumPy"
   ]
  },
  {
   "cell_type": "markdown",
   "metadata": {},
   "source": [
    "# Algebra Linear - Sistema de equações"
   ]
  },
  {
   "cell_type": "markdown",
   "metadata": {},
   "source": [
    "* Resolvendo sistema de equações com a biblioteca NumPy\n"
   ]
  },
  {
   "cell_type": "code",
   "execution_count": 1,
   "metadata": {},
   "outputs": [],
   "source": [
    "import numpy as np"
   ]
  },
  {
   "cell_type": "markdown",
   "metadata": {},
   "source": [
    "* Sistema\n",
    "\n",
    "2X+3Y = 5\n",
    "\n",
    "X-2Y = 8"
   ]
  },
  {
   "cell_type": "code",
   "execution_count": 2,
   "metadata": {},
   "outputs": [],
   "source": [
    "A1 = np.array([[2,3],[1,-2]])\n",
    "B1 = np.array([5,8])"
   ]
  },
  {
   "cell_type": "code",
   "execution_count": 3,
   "metadata": {},
   "outputs": [],
   "source": [
    "solucao1 = np.linalg.solve(A1, B1)"
   ]
  },
  {
   "cell_type": "code",
   "execution_count": 4,
   "metadata": {},
   "outputs": [],
   "source": [
    "X1 = solucao1[0]\n",
    "Y1 = solucao1[1]"
   ]
  },
  {
   "cell_type": "code",
   "execution_count": 5,
   "metadata": {},
   "outputs": [
    {
     "name": "stdout",
     "output_type": "stream",
     "text": [
      "X1 =  4.857142857142858\n",
      "Y1 =  -1.5714285714285714\n"
     ]
    }
   ],
   "source": [
    "print(\"X1 = \",X1)\n",
    "print(\"Y1 = \",Y1)"
   ]
  },
  {
   "cell_type": "markdown",
   "metadata": {},
   "source": [
    "* Sistema\n",
    "\n",
    "X+2Y=8\n",
    "\n",
    "3X+4Y=18"
   ]
  },
  {
   "cell_type": "code",
   "execution_count": 6,
   "metadata": {},
   "outputs": [],
   "source": [
    "A2 = np.array([[1, 2], [3, 4]])\n",
    "B2 = np.array([8, 18])"
   ]
  },
  {
   "cell_type": "code",
   "execution_count": 7,
   "metadata": {},
   "outputs": [],
   "source": [
    "solucao2 = np.linalg.solve(A2, B2)"
   ]
  },
  {
   "cell_type": "code",
   "execution_count": 8,
   "metadata": {},
   "outputs": [],
   "source": [
    "X2 = solucao2[0]\n",
    "Y2 = solucao2[1]"
   ]
  },
  {
   "cell_type": "code",
   "execution_count": 9,
   "metadata": {},
   "outputs": [
    {
     "name": "stdout",
     "output_type": "stream",
     "text": [
      "X2 =  2.0000000000000004\n",
      "Y2 =  2.9999999999999996\n"
     ]
    }
   ],
   "source": [
    "print(\"X2 = \",X2)\n",
    "print(\"Y2 = \",Y2)"
   ]
  },
  {
   "cell_type": "markdown",
   "metadata": {},
   "source": [
    "* Sistema\n",
    "\n",
    "2X+3Y+Z=15\n",
    "\n",
    "X-4Y+4Z=8\n",
    "\n",
    "-5X+6Y-2Z=10"
   ]
  },
  {
   "cell_type": "code",
   "execution_count": 10,
   "metadata": {},
   "outputs": [],
   "source": [
    "A3 = np.array([[2,3,1],[1,-4,4],[-5,6,-2]])\n",
    "B3 = np.array([15,8,10])"
   ]
  },
  {
   "cell_type": "code",
   "execution_count": 11,
   "metadata": {},
   "outputs": [],
   "source": [
    "solucao3 = np.linalg.solve(A3, B3)"
   ]
  },
  {
   "cell_type": "code",
   "execution_count": 12,
   "metadata": {},
   "outputs": [],
   "source": [
    "X3 = solucao3[0]\n",
    "Y3 = solucao3[1]\n",
    "Z3 = solucao3[2]"
   ]
  },
  {
   "cell_type": "code",
   "execution_count": 13,
   "metadata": {},
   "outputs": [
    {
     "name": "stdout",
     "output_type": "stream",
     "text": [
      "X3 =  -0.16000000000000014\n",
      "Y3 =  3.32\n",
      "Z3 =  5.359999999999999\n"
     ]
    }
   ],
   "source": [
    "print(\"X3 = \",X3)\n",
    "print(\"Y3 = \",Y3)\n",
    "print(\"Z3 = \",Z3)"
   ]
  }
 ],
 "metadata": {
  "kernelspec": {
   "display_name": "Python 3",
   "language": "python",
   "name": "python3"
  },
  "language_info": {
   "codemirror_mode": {
    "name": "ipython",
    "version": 3
   },
   "file_extension": ".py",
   "mimetype": "text/x-python",
   "name": "python",
   "nbconvert_exporter": "python",
   "pygments_lexer": "ipython3",
   "version": "3.8.3"
  }
 },
 "nbformat": 4,
 "nbformat_minor": 4
}
