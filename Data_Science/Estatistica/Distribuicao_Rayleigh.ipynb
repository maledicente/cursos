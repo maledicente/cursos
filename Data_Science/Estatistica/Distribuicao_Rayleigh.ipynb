{
 "cells": [
  {
   "cell_type": "markdown",
   "metadata": {},
   "source": [
    "# Estatística - Distribuição de Rayleigh"
   ]
  },
  {
   "cell_type": "markdown",
   "metadata": {},
   "source": [
    "* Calculando uma distribuição de Rayleigh do zero\n",
    "* @CursoDS_ProfDanilo\n",
    "* Prof. Dr. Danilo Morales Teixeira\n",
    "* cursods.profdanilo@gmail.com"
   ]
  },
  {
   "cell_type": "code",
   "execution_count": null,
   "metadata": {},
   "outputs": [],
   "source": [
    "import numpy as np\n",
    "import matplotlib.pyplot as plt\n",
    "import seaborn as sns\n",
    "import math"
   ]
  },
  {
   "cell_type": "code",
   "execution_count": null,
   "metadata": {},
   "outputs": [],
   "source": [
    "X = np.linspace(0,10,101)"
   ]
  },
  {
   "cell_type": "code",
   "execution_count": null,
   "metadata": {},
   "outputs": [],
   "source": [
    "sigma = [0.5,1.0,1.5,2.0,2.5,3.0]"
   ]
  },
  {
   "cell_type": "code",
   "execution_count": null,
   "metadata": {},
   "outputs": [],
   "source": [
    "colors = ['black','red','blue','green','orange','cyan']"
   ]
  },
  {
   "cell_type": "code",
   "execution_count": null,
   "metadata": {},
   "outputs": [],
   "source": [
    "fs = []\n",
    "\n",
    "for i in range(len(sigma)):\n",
    "    f = (X/(sigma[i]**2.0))*np.exp(-1.0*(X**2.0)/(2.0*sigma[i]**2))\n",
    "    fs.append(f)"
   ]
  },
  {
   "cell_type": "code",
   "execution_count": null,
   "metadata": {},
   "outputs": [],
   "source": [
    "for i in range(len(sigma)):\n",
    "    plt.plot(X,fs[i],color=colors[i],label=r'$\\sigma$='+str(sigma[i]))\n",
    "\n",
    "plt.xlabel('X')\n",
    "plt.ylabel(r'f(X,$\\sigma$)')\n",
    "plt.legend()\n",
    "plt.tight_layout()"
   ]
  },
  {
   "cell_type": "markdown",
   "metadata": {},
   "source": [
    "Gerando números aleatórios"
   ]
  },
  {
   "cell_type": "code",
   "execution_count": null,
   "metadata": {},
   "outputs": [],
   "source": [
    "sigma = 0.5\n",
    "s = np.random.rayleigh(scale=sigma,size=1000)"
   ]
  },
  {
   "cell_type": "code",
   "execution_count": null,
   "metadata": {},
   "outputs": [],
   "source": [
    "bins=10\n",
    "plt.hist(s, bins, density=True)\n",
    "bin = np.linspace(0,2,201)\n",
    "y = (bin/(sigma**2.0))*np.exp(-1.0*(bin**2.0)/(2.0*sigma**2))\n",
    "plt.plot(bin,y,color='red')\n",
    "plt.tight_layout()"
   ]
  },
  {
   "cell_type": "code",
   "execution_count": null,
   "metadata": {},
   "outputs": [],
   "source": []
  }
 ],
 "metadata": {
  "kernelspec": {
   "display_name": "Python 3",
   "language": "python",
   "name": "python3"
  },
  "language_info": {
   "codemirror_mode": {
    "name": "ipython",
    "version": 3
   },
   "file_extension": ".py",
   "mimetype": "text/x-python",
   "name": "python",
   "nbconvert_exporter": "python",
   "pygments_lexer": "ipython3",
   "version": "3.7.6"
  }
 },
 "nbformat": 4,
 "nbformat_minor": 4
}
