{
 "cells": [
  {
   "cell_type": "markdown",
   "metadata": {},
   "source": [
    "# R2 - SkLearn"
   ]
  },
  {
   "cell_type": "markdown",
   "metadata": {},
   "source": [
    "* Calculando o valor de R2 utilizando a biblioteca SkLearn\n",
    "* @CursoDS_ProfDanilo\n",
    "* Prof. Dr. Danilo Morales Teixeira\n",
    "* cursods.profdanilo@gmail.com"
   ]
  },
  {
   "cell_type": "code",
   "execution_count": 1,
   "metadata": {},
   "outputs": [],
   "source": [
    "import pandas as pd\n",
    "import numpy as np"
   ]
  },
  {
   "cell_type": "code",
   "execution_count": 2,
   "metadata": {},
   "outputs": [],
   "source": [
    "dados = pd.read_csv('Calc_R2.csv')"
   ]
  },
  {
   "cell_type": "code",
   "execution_count": 3,
   "metadata": {},
   "outputs": [
    {
     "data": {
      "text/html": [
       "<div>\n",
       "<style scoped>\n",
       "    .dataframe tbody tr th:only-of-type {\n",
       "        vertical-align: middle;\n",
       "    }\n",
       "\n",
       "    .dataframe tbody tr th {\n",
       "        vertical-align: top;\n",
       "    }\n",
       "\n",
       "    .dataframe thead th {\n",
       "        text-align: right;\n",
       "    }\n",
       "</style>\n",
       "<table border=\"1\" class=\"dataframe\">\n",
       "  <thead>\n",
       "    <tr style=\"text-align: right;\">\n",
       "      <th></th>\n",
       "      <th>Y</th>\n",
       "      <th>Y1</th>\n",
       "      <th>Y2</th>\n",
       "      <th>Y3</th>\n",
       "      <th>Y4</th>\n",
       "      <th>Y5</th>\n",
       "    </tr>\n",
       "  </thead>\n",
       "  <tbody>\n",
       "    <tr>\n",
       "      <th>0</th>\n",
       "      <td>-442.000000</td>\n",
       "      <td>-302.243056</td>\n",
       "      <td>-222.381944</td>\n",
       "      <td>-442.000000</td>\n",
       "      <td>-442.000000</td>\n",
       "      <td>-442.000000</td>\n",
       "    </tr>\n",
       "    <tr>\n",
       "      <th>1</th>\n",
       "      <td>-323.374421</td>\n",
       "      <td>-273.461227</td>\n",
       "      <td>-213.565394</td>\n",
       "      <td>-323.374421</td>\n",
       "      <td>-323.374421</td>\n",
       "      <td>-323.374421</td>\n",
       "    </tr>\n",
       "    <tr>\n",
       "      <th>2</th>\n",
       "      <td>-226.884259</td>\n",
       "      <td>-244.679398</td>\n",
       "      <td>-203.012731</td>\n",
       "      <td>-226.884259</td>\n",
       "      <td>-226.884259</td>\n",
       "      <td>-226.884259</td>\n",
       "    </tr>\n",
       "    <tr>\n",
       "      <th>3</th>\n",
       "      <td>-150.359375</td>\n",
       "      <td>-215.897569</td>\n",
       "      <td>-190.723958</td>\n",
       "      <td>-150.359375</td>\n",
       "      <td>-150.359375</td>\n",
       "      <td>-150.359375</td>\n",
       "    </tr>\n",
       "    <tr>\n",
       "      <th>4</th>\n",
       "      <td>-91.629630</td>\n",
       "      <td>-187.115741</td>\n",
       "      <td>-176.699074</td>\n",
       "      <td>-91.629630</td>\n",
       "      <td>-91.629630</td>\n",
       "      <td>-91.629630</td>\n",
       "    </tr>\n",
       "  </tbody>\n",
       "</table>\n",
       "</div>"
      ],
      "text/plain": [
       "            Y          Y1          Y2          Y3          Y4          Y5\n",
       "0 -442.000000 -302.243056 -222.381944 -442.000000 -442.000000 -442.000000\n",
       "1 -323.374421 -273.461227 -213.565394 -323.374421 -323.374421 -323.374421\n",
       "2 -226.884259 -244.679398 -203.012731 -226.884259 -226.884259 -226.884259\n",
       "3 -150.359375 -215.897569 -190.723958 -150.359375 -150.359375 -150.359375\n",
       "4  -91.629630 -187.115741 -176.699074  -91.629630  -91.629630  -91.629630"
      ]
     },
     "execution_count": 3,
     "metadata": {},
     "output_type": "execute_result"
    }
   ],
   "source": [
    "dados.head()"
   ]
  },
  {
   "cell_type": "code",
   "execution_count": 4,
   "metadata": {},
   "outputs": [],
   "source": [
    "Y = dados['Y'].values\n",
    "Y1 = dados['Y1'].values\n",
    "Y2 = dados['Y2'].values\n",
    "Y3 = dados['Y3'].values\n",
    "Y4 = dados['Y4'].values\n",
    "Y5 = dados['Y5'].values"
   ]
  },
  {
   "cell_type": "code",
   "execution_count": 5,
   "metadata": {},
   "outputs": [],
   "source": [
    "from sklearn.metrics import r2_score"
   ]
  },
  {
   "cell_type": "code",
   "execution_count": 6,
   "metadata": {},
   "outputs": [],
   "source": [
    "r2_1 = r2_score(Y,Y1)\n",
    "r2_2 = r2_score(Y,Y2)\n",
    "r2_3 = r2_score(Y,Y3)\n",
    "r2_4 = r2_score(Y,Y4)\n",
    "r2_5 = r2_score(Y,Y5)"
   ]
  },
  {
   "cell_type": "code",
   "execution_count": 7,
   "metadata": {},
   "outputs": [
    {
     "name": "stdout",
     "output_type": "stream",
     "text": [
      "R2 (Grau 1) =  0.7712730521486528\n",
      "R2 (Grau 2) =  0.8003177439393002\n",
      "R2 (Grau 3) =  1.0\n",
      "R2 (Grau 4) =  1.0\n",
      "R2 (Grau 5) =  1.0\n"
     ]
    }
   ],
   "source": [
    "print(\"R2 (Grau 1) = \",r2_1)\n",
    "print(\"R2 (Grau 2) = \",r2_2)\n",
    "print(\"R2 (Grau 3) = \",r2_3)\n",
    "print(\"R2 (Grau 4) = \",r2_4)\n",
    "print(\"R2 (Grau 5) = \",r2_5)"
   ]
  },
  {
   "cell_type": "code",
   "execution_count": null,
   "metadata": {},
   "outputs": [],
   "source": []
  }
 ],
 "metadata": {
  "kernelspec": {
   "display_name": "Python 3",
   "language": "python",
   "name": "python3"
  },
  "language_info": {
   "codemirror_mode": {
    "name": "ipython",
    "version": 3
   },
   "file_extension": ".py",
   "mimetype": "text/x-python",
   "name": "python",
   "nbconvert_exporter": "python",
   "pygments_lexer": "ipython3",
   "version": "3.7.6"
  }
 },
 "nbformat": 4,
 "nbformat_minor": 4
}
