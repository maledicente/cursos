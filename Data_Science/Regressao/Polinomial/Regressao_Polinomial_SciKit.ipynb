{
 "cells": [
  {
   "cell_type": "markdown",
   "metadata": {},
   "source": [
    "# Regressão Polinomial - SciKit Learn"
   ]
  },
  {
   "cell_type": "markdown",
   "metadata": {},
   "source": [
    "* Regressão polinomial utilizando a biblioteca SkLearn\n"
   ]
  },
  {
   "cell_type": "code",
   "execution_count": 1,
   "metadata": {},
   "outputs": [],
   "source": [
    "import numpy as np\n",
    "import pandas as pd\n",
    "import matplotlib.pyplot as plt"
   ]
  },
  {
   "cell_type": "code",
   "execution_count": 2,
   "metadata": {},
   "outputs": [],
   "source": [
    "dados = pd.read_csv('Regressao_Polinomial.csv')"
   ]
  },
  {
   "cell_type": "code",
   "execution_count": 3,
   "metadata": {},
   "outputs": [
    {
     "data": {
      "text/html": [
       "<div>\n",
       "<style scoped>\n",
       "    .dataframe tbody tr th:only-of-type {\n",
       "        vertical-align: middle;\n",
       "    }\n",
       "\n",
       "    .dataframe tbody tr th {\n",
       "        vertical-align: top;\n",
       "    }\n",
       "\n",
       "    .dataframe thead th {\n",
       "        text-align: right;\n",
       "    }\n",
       "</style>\n",
       "<table border=\"1\" class=\"dataframe\">\n",
       "  <thead>\n",
       "    <tr style=\"text-align: right;\">\n",
       "      <th></th>\n",
       "      <th>X</th>\n",
       "      <th>Y</th>\n",
       "    </tr>\n",
       "  </thead>\n",
       "  <tbody>\n",
       "    <tr>\n",
       "      <th>0</th>\n",
       "      <td>-2.000000</td>\n",
       "      <td>80.719587</td>\n",
       "    </tr>\n",
       "    <tr>\n",
       "      <th>1</th>\n",
       "      <td>-1.959596</td>\n",
       "      <td>70.171820</td>\n",
       "    </tr>\n",
       "    <tr>\n",
       "      <th>2</th>\n",
       "      <td>-1.919192</td>\n",
       "      <td>74.165193</td>\n",
       "    </tr>\n",
       "    <tr>\n",
       "      <th>3</th>\n",
       "      <td>-1.878788</td>\n",
       "      <td>48.018546</td>\n",
       "    </tr>\n",
       "    <tr>\n",
       "      <th>4</th>\n",
       "      <td>-1.838384</td>\n",
       "      <td>51.877748</td>\n",
       "    </tr>\n",
       "  </tbody>\n",
       "</table>\n",
       "</div>"
      ],
      "text/plain": [
       "          X          Y\n",
       "0 -2.000000  80.719587\n",
       "1 -1.959596  70.171820\n",
       "2 -1.919192  74.165193\n",
       "3 -1.878788  48.018546\n",
       "4 -1.838384  51.877748"
      ]
     },
     "execution_count": 3,
     "metadata": {},
     "output_type": "execute_result"
    }
   ],
   "source": [
    "dados.head()"
   ]
  },
  {
   "cell_type": "code",
   "execution_count": 4,
   "metadata": {},
   "outputs": [],
   "source": [
    "X = dados['X'].values\n",
    "Y = dados['Y'].values"
   ]
  },
  {
   "cell_type": "code",
   "execution_count": 5,
   "metadata": {},
   "outputs": [
    {
     "data": {
      "image/png": "[encoded data removed]",
      "text/plain": [
       "<Figure size 432x288 with 1 Axes>"
      ]
     },
     "metadata": {
      "needs_background": "light"
     },
     "output_type": "display_data"
    }
   ],
   "source": [
    "plt.scatter(X,Y,label='Y(X)');\n",
    "plt.xlabel('X');\n",
    "plt.ylabel('Y');\n",
    "plt.legend();"
   ]
  },
  {
   "cell_type": "code",
   "execution_count": 6,
   "metadata": {},
   "outputs": [],
   "source": [
    "from sklearn.linear_model import LinearRegression\n",
    "from sklearn.preprocessing import PolynomialFeatures"
   ]
  },
  {
   "cell_type": "markdown",
   "metadata": {},
   "source": [
    "# Grau 2"
   ]
  },
  {
   "cell_type": "code",
   "execution_count": 7,
   "metadata": {},
   "outputs": [],
   "source": [
    "caracteristicas_2= PolynomialFeatures(degree=2)\n",
    "X = X.reshape(-1, 1)\n",
    "X_Polinomio_2 = caracteristicas_2.fit_transform(X)"
   ]
  },
  {
   "cell_type": "code",
   "execution_count": 8,
   "metadata": {},
   "outputs": [],
   "source": [
    "modelo2 = LinearRegression()\n",
    "modelo2.fit(X_Polinomio_2, Y)\n",
    "Y_Polinomio_2 = modelo2.predict(X_Polinomio_2)"
   ]
  },
  {
   "cell_type": "code",
   "execution_count": 9,
   "metadata": {},
   "outputs": [
    {
     "data": {
      "image/png": "[encoded data removed]",
      "text/plain": [
       "<Figure size 432x288 with 1 Axes>"
      ]
     },
     "metadata": {
      "needs_background": "light"
     },
     "output_type": "display_data"
    }
   ],
   "source": [
    "plt.scatter(X,Y,label='Y(X)');\n",
    "plt.plot(X,Y_Polinomio_2,color='red',label='Ajuste');\n",
    "plt.xlabel('X');\n",
    "plt.ylabel('Y');\n",
    "plt.legend();"
   ]
  },
  {
   "cell_type": "markdown",
   "metadata": {},
   "source": [
    "# Grau 3"
   ]
  },
  {
   "cell_type": "code",
   "execution_count": 10,
   "metadata": {},
   "outputs": [],
   "source": [
    "caracteristicas_3= PolynomialFeatures(degree=3)\n",
    "X = X.reshape(-1, 1)\n",
    "X_Polinomio_3 = caracteristicas_3.fit_transform(X)"
   ]
  },
  {
   "cell_type": "code",
   "execution_count": 11,
   "metadata": {},
   "outputs": [],
   "source": [
    "modelo3 = LinearRegression()\n",
    "modelo3.fit(X_Polinomio_3, Y)\n",
    "Y_Polinomio_3 = modelo3.predict(X_Polinomio_3)"
   ]
  },
  {
   "cell_type": "code",
   "execution_count": 12,
   "metadata": {},
   "outputs": [
    {
     "data": {
      "image/png": "[encoded data removed]",
      "text/plain": [
       "<Figure size 432x288 with 1 Axes>"
      ]
     },
     "metadata": {
      "needs_background": "light"
     },
     "output_type": "display_data"
    }
   ],
   "source": [
    "plt.scatter(X,Y,label='Y(X)');\n",
    "plt.plot(X,Y_Polinomio_3,color='red',label='Ajuste');\n",
    "plt.xlabel('X');\n",
    "plt.ylabel('Y');\n",
    "plt.legend();"
   ]
  },
  {
   "cell_type": "markdown",
   "metadata": {},
   "source": [
    "# Grau 4"
   ]
  },
  {
   "cell_type": "code",
   "execution_count": 13,
   "metadata": {},
   "outputs": [],
   "source": [
    "caracteristicas_4= PolynomialFeatures(degree=4)\n",
    "X = X.reshape(-1, 1)\n",
    "X_Polinomio_4 = caracteristicas_4.fit_transform(X)"
   ]
  },
  {
   "cell_type": "code",
   "execution_count": 14,
   "metadata": {},
   "outputs": [],
   "source": [
    "modelo4 = LinearRegression()\n",
    "modelo4.fit(X_Polinomio_4, Y)\n",
    "Y_Polinomio_4 = modelo4.predict(X_Polinomio_4)"
   ]
  },
  {
   "cell_type": "code",
   "execution_count": 15,
   "metadata": {},
   "outputs": [
    {
     "data": {
      "image/png": "[encoded data removed]",
      "text/plain": [
       "<Figure size 432x288 with 1 Axes>"
      ]
     },
     "metadata": {
      "needs_background": "light"
     },
     "output_type": "display_data"
    }
   ],
   "source": [
    "plt.scatter(X,Y,label='Y(X)');\n",
    "plt.plot(X,Y_Polinomio_4,color='red',label='Ajuste');\n",
    "plt.xlabel('X');\n",
    "plt.ylabel('Y');\n",
    "plt.legend();"
   ]
  },
  {
   "cell_type": "markdown",
   "metadata": {},
   "source": [
    "# Grau 5"
   ]
  },
  {
   "cell_type": "code",
   "execution_count": 16,
   "metadata": {},
   "outputs": [],
   "source": [
    "caracteristicas_5= PolynomialFeatures(degree=5)\n",
    "X = X.reshape(-1, 1)\n",
    "X_Polinomio_5 = caracteristicas_5.fit_transform(X)"
   ]
  },
  {
   "cell_type": "code",
   "execution_count": 17,
   "metadata": {},
   "outputs": [],
   "source": [
    "modelo5 = LinearRegression()\n",
    "modelo5.fit(X_Polinomio_5, Y)\n",
    "Y_Polinomio_5 = modelo5.predict(X_Polinomio_5)"
   ]
  },
  {
   "cell_type": "code",
   "execution_count": 18,
   "metadata": {},
   "outputs": [
    {
     "data": {
      "image/png": "[encoded data removed]",
      "text/plain": [
       "<Figure size 432x288 with 1 Axes>"
      ]
     },
     "metadata": {
      "needs_background": "light"
     },
     "output_type": "display_data"
    }
   ],
   "source": [
    "plt.scatter(X,Y,label='Y(X)');\n",
    "plt.plot(X,Y_Polinomio_5,color='red',label='Ajuste');\n",
    "plt.xlabel('X');\n",
    "plt.ylabel('Y');\n",
    "plt.legend();"
   ]
  },
  {
   "cell_type": "markdown",
   "metadata": {},
   "source": [
    "# Calculando erros"
   ]
  },
  {
   "cell_type": "code",
   "execution_count": 19,
   "metadata": {},
   "outputs": [],
   "source": [
    "from sklearn.metrics import mean_squared_error, mean_absolute_error"
   ]
  },
  {
   "cell_type": "code",
   "execution_count": 20,
   "metadata": {},
   "outputs": [
    {
     "name": "stdout",
     "output_type": "stream",
     "text": [
      "MAE (grau=2) = 7.3082\n",
      "MAE (grau=3) = 6.2243\n",
      "MAE (grau=4) = 4.2379\n",
      "MAE (grau=5) = 4.2299\n"
     ]
    }
   ],
   "source": [
    "MAE2 = mean_absolute_error(Y,Y_Polinomio_2)\n",
    "MAE3 = mean_absolute_error(Y,Y_Polinomio_3)\n",
    "MAE4 = mean_absolute_error(Y,Y_Polinomio_4)\n",
    "MAE5 = mean_absolute_error(Y,Y_Polinomio_5)\n",
    "\n",
    "print(\"MAE (grau=2) = {:0.4f}\".format(MAE2))\n",
    "print(\"MAE (grau=3) = {:0.4f}\".format(MAE3))\n",
    "print(\"MAE (grau=4) = {:0.4f}\".format(MAE4))\n",
    "print(\"MAE (grau=5) = {:0.4f}\".format(MAE5))"
   ]
  },
  {
   "cell_type": "code",
   "execution_count": 21,
   "metadata": {},
   "outputs": [
    {
     "name": "stdout",
     "output_type": "stream",
     "text": [
      "RMSE (grau=2) = 9.3997\n",
      "RMSE (grau=3) = 7.4464\n",
      "RMSE (grau=4) = 5.1848\n",
      "RMSE (grau=5) = 5.1805\n"
     ]
    }
   ],
   "source": [
    "RMSE2 = np.sqrt(mean_squared_error(Y,Y_Polinomio_2))\n",
    "RMSE3 = np.sqrt(mean_squared_error(Y,Y_Polinomio_3))\n",
    "RMSE4 = np.sqrt(mean_squared_error(Y,Y_Polinomio_4))\n",
    "RMSE5 = np.sqrt(mean_squared_error(Y,Y_Polinomio_5))\n",
    "\n",
    "print(\"RMSE (grau=2) = {:0.4f}\".format(RMSE2))\n",
    "print(\"RMSE (grau=3) = {:0.4f}\".format(RMSE3))\n",
    "print(\"RMSE (grau=4) = {:0.4f}\".format(RMSE4))\n",
    "print(\"RMSE (grau=5) = {:0.4f}\".format(RMSE5))"
   ]
  },
  {
   "cell_type": "code",
   "execution_count": null,
   "metadata": {},
   "outputs": [],
   "source": []
  }
 ],
 "metadata": {
  "kernelspec": {
   "display_name": "Python 3",
   "language": "python",
   "name": "python3"
  },
  "language_info": {
   "codemirror_mode": {
    "name": "ipython",
    "version": 3
   },
   "file_extension": ".py",
   "mimetype": "text/x-python",
   "name": "python",
   "nbconvert_exporter": "python",
   "pygments_lexer": "ipython3",
   "version": "3.8.3"
  }
 },
 "nbformat": 4,
 "nbformat_minor": 2
}
